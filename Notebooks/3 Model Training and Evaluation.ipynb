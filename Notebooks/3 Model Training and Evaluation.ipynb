{
 "cells": [
  {
   "cell_type": "markdown",
   "metadata": {},
   "source": [
    "# Classifying Urban sounds using Deep Learning\n",
    "\n",
    "## 3 Model Training and Evaluation "
   ]
  },
  {
   "cell_type": "markdown",
   "metadata": {},
   "source": [
    "### Load Preprocessed data "
   ]
  },
  {
   "cell_type": "code",
   "execution_count": 18,
   "metadata": {},
   "outputs": [],
   "source": [
    "# retrieve the preprocessed data from previous notebook\n",
    "\n",
    "%store -r x_train \n",
    "%store -r x_test \n",
    "%store -r y_train \n",
    "%store -r y_test \n",
    "%store -r yy \n",
    "%store -r le"
   ]
  },
  {
   "cell_type": "markdown",
   "metadata": {},
   "source": [
    "### Initial model architecture - MLP\n",
    "\n",
    "We will start with constructing a Multilayer Perceptron (MLP) Neural Network using Keras and a Tensorflow backend. \n",
    "\n",
    "Starting with a `sequential` model so we can build the model layer by layer. \n",
    "\n",
    "We will begin with a simple model architecture, consisting of three layers, an input layer, a hidden layer and an output layer. All three layers will be of the `dense` layer type which is a standard layer type that is used in many cases for neural networks. \n",
    "\n",
    "The first layer will receive the input shape. As each sample contains 40 MFCCs (or columns) we have a shape of (1x40) this means we will start with an input shape of 40. \n",
    "\n",
    "The first two layers will have 256 nodes. The activation function we will be using for our first 2 layers is the `ReLU`, or `Rectified Linear Activation`. This activation function has been proven to work well in neural networks.\n",
    "\n",
    "We will also apply a `Dropout` value of 50% on our first two layers. This will randomly exclude nodes from each update cycle which in turn results in a network that is capable of better generalisation and is less likely to overfit the training data.\n",
    "\n",
    "Our output layer will have 10 nodes (num_labels) which matches the number of possible classifications. The activation is for our output layer is `softmax`. Softmax makes the output sum up to 1 so the output can be interpreted as probabilities. The model will then make its prediction based on which option has the highest probability."
   ]
  },
  {
   "cell_type": "code",
   "execution_count": 19,
   "metadata": {},
   "outputs": [
    {
     "data": {
      "text/plain": [
       "(64, 40)"
      ]
     },
     "execution_count": 19,
     "metadata": {},
     "output_type": "execute_result"
    }
   ],
   "source": [
    "x_train.shape"
   ]
  },
  {
   "cell_type": "code",
   "execution_count": 20,
   "metadata": {},
   "outputs": [],
   "source": [
    "import numpy as np\n",
    "from keras.models import Sequential\n",
    "from keras.layers import Dense, Dropout, Activation, Flatten\n",
    "from keras.layers import Convolution2D, MaxPooling2D\n",
    "from keras.optimizers import Adam\n",
    "from keras.utils import np_utils\n",
    "from sklearn import metrics \n",
    "\n",
    "num_labels = yy.shape[1]\n",
    "filter_size = 2\n",
    "\n",
    "# Construct model \n",
    "model = Sequential()\n",
    "\n",
    "model.add(Dense(256, input_shape=(40,)))\n",
    "model.add(Activation('relu'))\n",
    "model.add(Dropout(0.5))\n",
    "\n",
    "model.add(Dense(256))\n",
    "model.add(Activation('relu'))\n",
    "model.add(Dropout(0.5))\n",
    "\n",
    "model.add(Dense(num_labels))\n",
    "model.add(Activation('softmax'))"
   ]
  },
  {
   "cell_type": "markdown",
   "metadata": {},
   "source": [
    "### Compiling the model \n",
    "\n",
    "For compiling our model, we will use the following three parameters: \n",
    "\n",
    "* Loss function - we will use `categorical_crossentropy`. This is the most common choice for classification. A lower score indicates that the model is performing better.\n",
    "\n",
    "* Metrics - we will use the `accuracy` metric which will allow us to view the accuracy score on the validation data when we train the model. \n",
    "\n",
    "* Optimizer - here we will use `adam` which is a generally good optimizer for many use cases.\n"
   ]
  },
  {
   "cell_type": "code",
   "execution_count": 21,
   "metadata": {},
   "outputs": [],
   "source": [
    "# Compile the model\n",
    "model.compile(loss='categorical_crossentropy', metrics=['accuracy'], optimizer='adam') \n",
    "#model.compile(loss='sparse_categorical_crossentropy', metrics=['accuracy'], optimizer='adam') \n"
   ]
  },
  {
   "cell_type": "code",
   "execution_count": 22,
   "metadata": {},
   "outputs": [
    {
     "name": "stdout",
     "output_type": "stream",
     "text": [
      "Model: \"sequential_2\"\n",
      "_________________________________________________________________\n",
      "Layer (type)                 Output Shape              Param #   \n",
      "=================================================================\n",
      "dense_4 (Dense)              (None, 256)               10496     \n",
      "_________________________________________________________________\n",
      "activation_4 (Activation)    (None, 256)               0         \n",
      "_________________________________________________________________\n",
      "dropout_3 (Dropout)          (None, 256)               0         \n",
      "_________________________________________________________________\n",
      "dense_5 (Dense)              (None, 256)               65792     \n",
      "_________________________________________________________________\n",
      "activation_5 (Activation)    (None, 256)               0         \n",
      "_________________________________________________________________\n",
      "dropout_4 (Dropout)          (None, 256)               0         \n",
      "_________________________________________________________________\n",
      "dense_6 (Dense)              (None, 2)                 514       \n",
      "_________________________________________________________________\n",
      "activation_6 (Activation)    (None, 2)                 0         \n",
      "=================================================================\n",
      "Total params: 76,802\n",
      "Trainable params: 76,802\n",
      "Non-trainable params: 0\n",
      "_________________________________________________________________\n",
      "Pre-training accuracy: 62.5000%\n"
     ]
    }
   ],
   "source": [
    "# Display model architecture summary \n",
    "model.summary()\n",
    "\n",
    "# Calculate pre-training accuracy \n",
    "score = model.evaluate(x_test, y_test, verbose=0)\n",
    "accuracy = 100*score[1]\n",
    "\n",
    "print(\"Pre-training accuracy: %.4f%%\" % accuracy)"
   ]
  },
  {
   "cell_type": "markdown",
   "metadata": {},
   "source": [
    "### Training \n",
    "\n",
    "Here we will train the model. \n",
    "\n",
    "We will start with 100 epochs which is the number of times the model will cycle through the data. The model will improve on each cycle until it reaches a certain point. \n",
    "\n",
    "We will also start with a low batch size, as having a large batch size can reduce the generalisation ability of the model. "
   ]
  },
  {
   "cell_type": "code",
   "execution_count": 23,
   "metadata": {},
   "outputs": [
    {
     "name": "stdout",
     "output_type": "stream",
     "text": [
      "Train on 64 samples, validate on 16 samples\n",
      "Epoch 1/100\n",
      "64/64 [==============================] - 0s 6ms/step - loss: 17.0837 - accuracy: 0.4844 - val_loss: 6.1605 - val_accuracy: 0.6250\n",
      "\n",
      "Epoch 00001: val_loss improved from inf to 6.16055, saving model to saved_models/weights.best.basic_mlp.hdf5\n",
      "Epoch 2/100\n",
      "64/64 [==============================] - 0s 137us/step - loss: 20.6919 - accuracy: 0.5000 - val_loss: 4.4292 - val_accuracy: 0.6250\n",
      "\n",
      "Epoch 00002: val_loss improved from 6.16055 to 4.42918, saving model to saved_models/weights.best.basic_mlp.hdf5\n",
      "Epoch 3/100\n",
      "64/64 [==============================] - 0s 251us/step - loss: 21.7703 - accuracy: 0.5469 - val_loss: 2.6695 - val_accuracy: 0.8125\n",
      "\n",
      "Epoch 00003: val_loss improved from 4.42918 to 2.66952, saving model to saved_models/weights.best.basic_mlp.hdf5\n",
      "Epoch 4/100\n",
      "64/64 [==============================] - 0s 294us/step - loss: 10.7446 - accuracy: 0.6719 - val_loss: 2.3270 - val_accuracy: 0.7500\n",
      "\n",
      "Epoch 00004: val_loss improved from 2.66952 to 2.32698, saving model to saved_models/weights.best.basic_mlp.hdf5\n",
      "Epoch 5/100\n",
      "64/64 [==============================] - 0s 158us/step - loss: 21.0835 - accuracy: 0.5000 - val_loss: 2.5235 - val_accuracy: 0.7500\n",
      "\n",
      "Epoch 00005: val_loss did not improve from 2.32698\n",
      "Epoch 6/100\n",
      "64/64 [==============================] - 0s 279us/step - loss: 15.6933 - accuracy: 0.6250 - val_loss: 2.6595 - val_accuracy: 0.7500\n",
      "\n",
      "Epoch 00006: val_loss did not improve from 2.32698\n",
      "Epoch 7/100\n",
      "64/64 [==============================] - 0s 558us/step - loss: 15.3291 - accuracy: 0.5781 - val_loss: 2.8938 - val_accuracy: 0.8125\n",
      "\n",
      "Epoch 00007: val_loss did not improve from 2.32698\n",
      "Epoch 8/100\n",
      "64/64 [==============================] - 0s 264us/step - loss: 10.9730 - accuracy: 0.5625 - val_loss: 3.0950 - val_accuracy: 0.8125\n",
      "\n",
      "Epoch 00008: val_loss did not improve from 2.32698\n",
      "Epoch 9/100\n",
      "64/64 [==============================] - 0s 435us/step - loss: 12.3955 - accuracy: 0.6406 - val_loss: 3.2955 - val_accuracy: 0.8125\n",
      "\n",
      "Epoch 00009: val_loss did not improve from 2.32698\n",
      "Epoch 10/100\n",
      "64/64 [==============================] - 0s 311us/step - loss: 10.7948 - accuracy: 0.6250 - val_loss: 3.2409 - val_accuracy: 0.8125\n",
      "\n",
      "Epoch 00010: val_loss did not improve from 2.32698\n",
      "Epoch 11/100\n",
      "64/64 [==============================] - 0s 214us/step - loss: 13.1323 - accuracy: 0.6406 - val_loss: 2.4977 - val_accuracy: 0.8125\n",
      "\n",
      "Epoch 00011: val_loss did not improve from 2.32698\n",
      "Epoch 12/100\n",
      "64/64 [==============================] - 0s 382us/step - loss: 8.4298 - accuracy: 0.6250 - val_loss: 2.0604 - val_accuracy: 0.6875\n",
      "\n",
      "Epoch 00012: val_loss improved from 2.32698 to 2.06039, saving model to saved_models/weights.best.basic_mlp.hdf5\n",
      "Epoch 13/100\n",
      "64/64 [==============================] - 0s 250us/step - loss: 11.1732 - accuracy: 0.6094 - val_loss: 3.6860 - val_accuracy: 0.5625\n",
      "\n",
      "Epoch 00013: val_loss did not improve from 2.06039\n",
      "Epoch 14/100\n",
      "64/64 [==============================] - 0s 379us/step - loss: 11.0952 - accuracy: 0.6406 - val_loss: 6.0033 - val_accuracy: 0.5625\n",
      "\n",
      "Epoch 00014: val_loss did not improve from 2.06039\n",
      "Epoch 15/100\n",
      "64/64 [==============================] - 0s 382us/step - loss: 12.5362 - accuracy: 0.4844 - val_loss: 3.9398 - val_accuracy: 0.5625\n",
      "\n",
      "Epoch 00015: val_loss did not improve from 2.06039\n",
      "Epoch 16/100\n",
      "64/64 [==============================] - 0s 494us/step - loss: 7.5817 - accuracy: 0.7188 - val_loss: 1.6130 - val_accuracy: 0.6875\n",
      "\n",
      "Epoch 00016: val_loss improved from 2.06039 to 1.61296, saving model to saved_models/weights.best.basic_mlp.hdf5\n",
      "Epoch 17/100\n",
      "64/64 [==============================] - 0s 312us/step - loss: 6.6104 - accuracy: 0.6094 - val_loss: 1.5713 - val_accuracy: 0.7500\n",
      "\n",
      "Epoch 00017: val_loss improved from 1.61296 to 1.57131, saving model to saved_models/weights.best.basic_mlp.hdf5\n",
      "Epoch 18/100\n",
      "64/64 [==============================] - 0s 332us/step - loss: 8.3975 - accuracy: 0.6719 - val_loss: 2.3616 - val_accuracy: 0.8125\n",
      "\n",
      "Epoch 00018: val_loss did not improve from 1.57131\n",
      "Epoch 19/100\n",
      "64/64 [==============================] - 0s 480us/step - loss: 9.6292 - accuracy: 0.6406 - val_loss: 2.2877 - val_accuracy: 0.8125\n",
      "\n",
      "Epoch 00019: val_loss did not improve from 1.57131\n",
      "Epoch 20/100\n",
      "64/64 [==============================] - 0s 521us/step - loss: 8.5011 - accuracy: 0.6562 - val_loss: 2.1192 - val_accuracy: 0.8125\n",
      "\n",
      "Epoch 00020: val_loss did not improve from 1.57131\n",
      "Epoch 21/100\n",
      "64/64 [==============================] - 0s 682us/step - loss: 5.2589 - accuracy: 0.7500 - val_loss: 1.5042 - val_accuracy: 0.7500\n",
      "\n",
      "Epoch 00021: val_loss improved from 1.57131 to 1.50421, saving model to saved_models/weights.best.basic_mlp.hdf5\n",
      "Epoch 22/100\n",
      "64/64 [==============================] - 0s 311us/step - loss: 7.9558 - accuracy: 0.6562 - val_loss: 1.2025 - val_accuracy: 0.7500\n",
      "\n",
      "Epoch 00022: val_loss improved from 1.50421 to 1.20254, saving model to saved_models/weights.best.basic_mlp.hdf5\n",
      "Epoch 23/100\n",
      "64/64 [==============================] - 0s 137us/step - loss: 8.6766 - accuracy: 0.6875 - val_loss: 1.1661 - val_accuracy: 0.7500\n",
      "\n",
      "Epoch 00023: val_loss improved from 1.20254 to 1.16612, saving model to saved_models/weights.best.basic_mlp.hdf5\n",
      "Epoch 24/100\n",
      "64/64 [==============================] - 0s 200us/step - loss: 6.8437 - accuracy: 0.6875 - val_loss: 1.3007 - val_accuracy: 0.8125\n",
      "\n",
      "Epoch 00024: val_loss did not improve from 1.16612\n",
      "Epoch 25/100\n",
      "64/64 [==============================] - 0s 259us/step - loss: 9.3128 - accuracy: 0.6094 - val_loss: 1.7808 - val_accuracy: 0.8750\n",
      "\n",
      "Epoch 00025: val_loss did not improve from 1.16612\n",
      "Epoch 26/100\n",
      "64/64 [==============================] - 0s 340us/step - loss: 6.1760 - accuracy: 0.6719 - val_loss: 2.1788 - val_accuracy: 0.8125\n",
      "\n",
      "Epoch 00026: val_loss did not improve from 1.16612\n",
      "Epoch 27/100\n",
      "64/64 [==============================] - 0s 328us/step - loss: 6.2355 - accuracy: 0.7188 - val_loss: 2.1474 - val_accuracy: 0.8125\n",
      "\n",
      "Epoch 00027: val_loss did not improve from 1.16612\n",
      "Epoch 28/100\n",
      "64/64 [==============================] - 0s 304us/step - loss: 5.5930 - accuracy: 0.7344 - val_loss: 2.1107 - val_accuracy: 0.8125\n",
      "\n",
      "Epoch 00028: val_loss did not improve from 1.16612\n",
      "Epoch 29/100\n",
      "64/64 [==============================] - 0s 284us/step - loss: 7.6562 - accuracy: 0.6406 - val_loss: 1.7673 - val_accuracy: 0.8750\n",
      "\n",
      "Epoch 00029: val_loss did not improve from 1.16612\n",
      "Epoch 30/100\n",
      "64/64 [==============================] - 0s 516us/step - loss: 7.9997 - accuracy: 0.5625 - val_loss: 1.4347 - val_accuracy: 0.8750\n",
      "\n",
      "Epoch 00030: val_loss did not improve from 1.16612\n",
      "Epoch 31/100\n",
      "64/64 [==============================] - 0s 348us/step - loss: 7.8510 - accuracy: 0.6406 - val_loss: 1.1448 - val_accuracy: 0.7500\n",
      "\n",
      "Epoch 00031: val_loss improved from 1.16612 to 1.14483, saving model to saved_models/weights.best.basic_mlp.hdf5\n",
      "Epoch 32/100\n",
      "64/64 [==============================] - 0s 275us/step - loss: 6.6243 - accuracy: 0.6562 - val_loss: 1.1317 - val_accuracy: 0.7500\n",
      "\n",
      "Epoch 00032: val_loss improved from 1.14483 to 1.13170, saving model to saved_models/weights.best.basic_mlp.hdf5\n",
      "Epoch 33/100\n",
      "64/64 [==============================] - 0s 279us/step - loss: 5.2957 - accuracy: 0.6406 - val_loss: 1.0957 - val_accuracy: 0.7500\n",
      "\n",
      "Epoch 00033: val_loss improved from 1.13170 to 1.09569, saving model to saved_models/weights.best.basic_mlp.hdf5\n",
      "Epoch 34/100\n",
      "64/64 [==============================] - 0s 292us/step - loss: 3.9937 - accuracy: 0.7188 - val_loss: 1.0496 - val_accuracy: 0.7500\n",
      "\n",
      "Epoch 00034: val_loss improved from 1.09569 to 1.04956, saving model to saved_models/weights.best.basic_mlp.hdf5\n",
      "Epoch 35/100\n",
      "64/64 [==============================] - 0s 442us/step - loss: 5.1001 - accuracy: 0.7500 - val_loss: 1.0897 - val_accuracy: 0.8125\n",
      "\n",
      "Epoch 00035: val_loss did not improve from 1.04956\n",
      "Epoch 36/100\n",
      "64/64 [==============================] - 0s 289us/step - loss: 5.5314 - accuracy: 0.7031 - val_loss: 1.2822 - val_accuracy: 0.8750\n",
      "\n",
      "Epoch 00036: val_loss did not improve from 1.04956\n",
      "Epoch 37/100\n",
      "64/64 [==============================] - 0s 175us/step - loss: 5.9610 - accuracy: 0.6562 - val_loss: 1.5822 - val_accuracy: 0.8750\n",
      "\n",
      "Epoch 00037: val_loss did not improve from 1.04956\n",
      "Epoch 38/100\n"
     ]
    },
    {
     "name": "stdout",
     "output_type": "stream",
     "text": [
      "64/64 [==============================] - 0s 203us/step - loss: 4.9681 - accuracy: 0.7500 - val_loss: 1.7420 - val_accuracy: 0.8750\n",
      "\n",
      "Epoch 00038: val_loss did not improve from 1.04956\n",
      "Epoch 39/100\n",
      "64/64 [==============================] - 0s 203us/step - loss: 6.8730 - accuracy: 0.5781 - val_loss: 1.8109 - val_accuracy: 0.8750\n",
      "\n",
      "Epoch 00039: val_loss did not improve from 1.04956\n",
      "Epoch 40/100\n",
      "64/64 [==============================] - 0s 216us/step - loss: 3.3193 - accuracy: 0.7344 - val_loss: 1.5544 - val_accuracy: 0.8750\n",
      "\n",
      "Epoch 00040: val_loss did not improve from 1.04956\n",
      "Epoch 41/100\n",
      "64/64 [==============================] - 0s 261us/step - loss: 3.8913 - accuracy: 0.7500 - val_loss: 1.2426 - val_accuracy: 0.8750\n",
      "\n",
      "Epoch 00041: val_loss did not improve from 1.04956\n",
      "Epoch 42/100\n",
      "64/64 [==============================] - 0s 238us/step - loss: 4.8062 - accuracy: 0.6719 - val_loss: 1.0080 - val_accuracy: 0.8750\n",
      "\n",
      "Epoch 00042: val_loss improved from 1.04956 to 1.00797, saving model to saved_models/weights.best.basic_mlp.hdf5\n",
      "Epoch 43/100\n",
      "64/64 [==============================] - 0s 162us/step - loss: 3.2626 - accuracy: 0.7344 - val_loss: 0.8650 - val_accuracy: 0.7500\n",
      "\n",
      "Epoch 00043: val_loss improved from 1.00797 to 0.86496, saving model to saved_models/weights.best.basic_mlp.hdf5\n",
      "Epoch 44/100\n",
      "64/64 [==============================] - 0s 635us/step - loss: 4.5841 - accuracy: 0.6719 - val_loss: 0.8293 - val_accuracy: 0.7500\n",
      "\n",
      "Epoch 00044: val_loss improved from 0.86496 to 0.82930, saving model to saved_models/weights.best.basic_mlp.hdf5\n",
      "Epoch 45/100\n",
      "64/64 [==============================] - 0s 772us/step - loss: 3.7671 - accuracy: 0.7188 - val_loss: 0.8241 - val_accuracy: 0.7500\n",
      "\n",
      "Epoch 00045: val_loss improved from 0.82930 to 0.82413, saving model to saved_models/weights.best.basic_mlp.hdf5\n",
      "Epoch 46/100\n",
      "64/64 [==============================] - 0s 268us/step - loss: 3.3479 - accuracy: 0.6562 - val_loss: 0.8019 - val_accuracy: 0.7500\n",
      "\n",
      "Epoch 00046: val_loss improved from 0.82413 to 0.80194, saving model to saved_models/weights.best.basic_mlp.hdf5\n",
      "Epoch 47/100\n",
      "64/64 [==============================] - 0s 201us/step - loss: 4.4060 - accuracy: 0.7031 - val_loss: 0.8499 - val_accuracy: 0.7500\n",
      "\n",
      "Epoch 00047: val_loss did not improve from 0.80194\n",
      "Epoch 48/100\n",
      "64/64 [==============================] - 0s 170us/step - loss: 3.5326 - accuracy: 0.7188 - val_loss: 0.9581 - val_accuracy: 0.8125\n",
      "\n",
      "Epoch 00048: val_loss did not improve from 0.80194\n",
      "Epoch 49/100\n",
      "64/64 [==============================] - 0s 238us/step - loss: 3.4845 - accuracy: 0.6406 - val_loss: 1.1506 - val_accuracy: 0.8125\n",
      "\n",
      "Epoch 00049: val_loss did not improve from 0.80194\n",
      "Epoch 50/100\n",
      "64/64 [==============================] - 0s 295us/step - loss: 3.1840 - accuracy: 0.7656 - val_loss: 1.2234 - val_accuracy: 0.8125\n",
      "\n",
      "Epoch 00050: val_loss did not improve from 0.80194\n",
      "Epoch 51/100\n",
      "64/64 [==============================] - 0s 352us/step - loss: 2.9527 - accuracy: 0.7188 - val_loss: 1.1381 - val_accuracy: 0.8125\n",
      "\n",
      "Epoch 00051: val_loss did not improve from 0.80194\n",
      "Epoch 52/100\n",
      "64/64 [==============================] - 0s 334us/step - loss: 1.7197 - accuracy: 0.7500 - val_loss: 0.9800 - val_accuracy: 0.7500\n",
      "\n",
      "Epoch 00052: val_loss did not improve from 0.80194\n",
      "Epoch 53/100\n",
      "64/64 [==============================] - 0s 373us/step - loss: 3.0798 - accuracy: 0.7344 - val_loss: 0.8631 - val_accuracy: 0.7500\n",
      "\n",
      "Epoch 00053: val_loss did not improve from 0.80194\n",
      "Epoch 54/100\n",
      "64/64 [==============================] - 0s 481us/step - loss: 3.3672 - accuracy: 0.6719 - val_loss: 0.7718 - val_accuracy: 0.7500\n",
      "\n",
      "Epoch 00054: val_loss improved from 0.80194 to 0.77184, saving model to saved_models/weights.best.basic_mlp.hdf5\n",
      "Epoch 55/100\n",
      "64/64 [==============================] - 0s 271us/step - loss: 3.1516 - accuracy: 0.6562 - val_loss: 0.7172 - val_accuracy: 0.7500\n",
      "\n",
      "Epoch 00055: val_loss improved from 0.77184 to 0.71724, saving model to saved_models/weights.best.basic_mlp.hdf5\n",
      "Epoch 56/100\n",
      "64/64 [==============================] - 0s 397us/step - loss: 2.6717 - accuracy: 0.7656 - val_loss: 0.6907 - val_accuracy: 0.7500\n",
      "\n",
      "Epoch 00056: val_loss improved from 0.71724 to 0.69067, saving model to saved_models/weights.best.basic_mlp.hdf5\n",
      "Epoch 57/100\n",
      "64/64 [==============================] - 0s 601us/step - loss: 3.4221 - accuracy: 0.6562 - val_loss: 0.6609 - val_accuracy: 0.7500\n",
      "\n",
      "Epoch 00057: val_loss improved from 0.69067 to 0.66087, saving model to saved_models/weights.best.basic_mlp.hdf5\n",
      "Epoch 58/100\n",
      "64/64 [==============================] - 0s 402us/step - loss: 3.0435 - accuracy: 0.7031 - val_loss: 0.6006 - val_accuracy: 0.7500\n",
      "\n",
      "Epoch 00058: val_loss improved from 0.66087 to 0.60063, saving model to saved_models/weights.best.basic_mlp.hdf5\n",
      "Epoch 59/100\n",
      "64/64 [==============================] - 0s 395us/step - loss: 2.7670 - accuracy: 0.7500 - val_loss: 0.5675 - val_accuracy: 0.7500\n",
      "\n",
      "Epoch 00059: val_loss improved from 0.60063 to 0.56751, saving model to saved_models/weights.best.basic_mlp.hdf5\n",
      "Epoch 60/100\n",
      "64/64 [==============================] - 0s 364us/step - loss: 2.6538 - accuracy: 0.7500 - val_loss: 0.5311 - val_accuracy: 0.7500\n",
      "\n",
      "Epoch 00060: val_loss improved from 0.56751 to 0.53115, saving model to saved_models/weights.best.basic_mlp.hdf5\n",
      "Epoch 61/100\n",
      "64/64 [==============================] - 0s 637us/step - loss: 3.1145 - accuracy: 0.6719 - val_loss: 0.5662 - val_accuracy: 0.6875\n",
      "\n",
      "Epoch 00061: val_loss did not improve from 0.53115\n",
      "Epoch 62/100\n",
      "64/64 [==============================] - 0s 793us/step - loss: 3.9631 - accuracy: 0.6875 - val_loss: 0.6092 - val_accuracy: 0.7500\n",
      "\n",
      "Epoch 00062: val_loss did not improve from 0.53115\n",
      "Epoch 63/100\n",
      "64/64 [==============================] - 0s 750us/step - loss: 2.8788 - accuracy: 0.7188 - val_loss: 0.5640 - val_accuracy: 0.7500\n",
      "\n",
      "Epoch 00063: val_loss did not improve from 0.53115\n",
      "Epoch 64/100\n",
      "64/64 [==============================] - 0s 617us/step - loss: 2.5695 - accuracy: 0.6406 - val_loss: 0.4808 - val_accuracy: 0.6875\n",
      "\n",
      "Epoch 00064: val_loss improved from 0.53115 to 0.48081, saving model to saved_models/weights.best.basic_mlp.hdf5\n",
      "Epoch 65/100\n",
      "64/64 [==============================] - 0s 476us/step - loss: 1.5601 - accuracy: 0.7188 - val_loss: 0.4680 - val_accuracy: 0.7500\n",
      "\n",
      "Epoch 00065: val_loss improved from 0.48081 to 0.46797, saving model to saved_models/weights.best.basic_mlp.hdf5\n",
      "Epoch 66/100\n",
      "64/64 [==============================] - 0s 531us/step - loss: 2.3572 - accuracy: 0.7344 - val_loss: 0.5186 - val_accuracy: 0.7500\n",
      "\n",
      "Epoch 00066: val_loss did not improve from 0.46797\n",
      "Epoch 67/100\n",
      "64/64 [==============================] - 0s 681us/step - loss: 2.4372 - accuracy: 0.7812 - val_loss: 0.5514 - val_accuracy: 0.8125\n",
      "\n",
      "Epoch 00067: val_loss did not improve from 0.46797\n",
      "Epoch 68/100\n",
      "64/64 [==============================] - 0s 611us/step - loss: 1.1383 - accuracy: 0.7656 - val_loss: 0.5729 - val_accuracy: 0.8125\n",
      "\n",
      "Epoch 00068: val_loss did not improve from 0.46797\n",
      "Epoch 69/100\n",
      "64/64 [==============================] - 0s 686us/step - loss: 2.9127 - accuracy: 0.7031 - val_loss: 0.5675 - val_accuracy: 0.8125\n",
      "\n",
      "Epoch 00069: val_loss did not improve from 0.46797\n",
      "Epoch 70/100\n",
      "64/64 [==============================] - 0s 631us/step - loss: 1.9663 - accuracy: 0.7344 - val_loss: 0.5554 - val_accuracy: 0.8125\n",
      "\n",
      "Epoch 00070: val_loss did not improve from 0.46797\n",
      "Epoch 71/100\n",
      "64/64 [==============================] - 0s 530us/step - loss: 2.1599 - accuracy: 0.7344 - val_loss: 0.5338 - val_accuracy: 0.8125\n",
      "\n",
      "Epoch 00071: val_loss did not improve from 0.46797\n",
      "Epoch 72/100\n",
      "64/64 [==============================] - 0s 697us/step - loss: 1.7297 - accuracy: 0.7656 - val_loss: 0.4877 - val_accuracy: 0.8125\n",
      "\n",
      "Epoch 00072: val_loss did not improve from 0.46797\n",
      "Epoch 73/100\n",
      "64/64 [==============================] - 0s 654us/step - loss: 2.2241 - accuracy: 0.6875 - val_loss: 0.4659 - val_accuracy: 0.7500\n",
      "\n",
      "Epoch 00073: val_loss improved from 0.46797 to 0.46589, saving model to saved_models/weights.best.basic_mlp.hdf5\n",
      "Epoch 74/100\n",
      "64/64 [==============================] - 0s 395us/step - loss: 1.5855 - accuracy: 0.7500 - val_loss: 0.4716 - val_accuracy: 0.7500\n",
      "\n",
      "Epoch 00074: val_loss did not improve from 0.46589\n",
      "Epoch 75/100\n"
     ]
    },
    {
     "name": "stdout",
     "output_type": "stream",
     "text": [
      "64/64 [==============================] - 0s 360us/step - loss: 2.4454 - accuracy: 0.6250 - val_loss: 0.4832 - val_accuracy: 0.7500\n",
      "\n",
      "Epoch 00075: val_loss did not improve from 0.46589\n",
      "Epoch 76/100\n",
      "64/64 [==============================] - 0s 559us/step - loss: 2.2233 - accuracy: 0.7188 - val_loss: 0.4862 - val_accuracy: 0.7500\n",
      "\n",
      "Epoch 00076: val_loss did not improve from 0.46589\n",
      "Epoch 77/100\n",
      "64/64 [==============================] - 0s 546us/step - loss: 1.5763 - accuracy: 0.7500 - val_loss: 0.4946 - val_accuracy: 0.7500\n",
      "\n",
      "Epoch 00077: val_loss did not improve from 0.46589\n",
      "Epoch 78/100\n",
      "64/64 [==============================] - 0s 410us/step - loss: 1.9236 - accuracy: 0.7188 - val_loss: 0.5066 - val_accuracy: 0.8125\n",
      "\n",
      "Epoch 00078: val_loss did not improve from 0.46589\n",
      "Epoch 79/100\n",
      "64/64 [==============================] - 0s 534us/step - loss: 1.0136 - accuracy: 0.7969 - val_loss: 0.5286 - val_accuracy: 0.8125\n",
      "\n",
      "Epoch 00079: val_loss did not improve from 0.46589\n",
      "Epoch 80/100\n",
      "64/64 [==============================] - 0s 536us/step - loss: 1.7669 - accuracy: 0.6875 - val_loss: 0.5625 - val_accuracy: 0.8125\n",
      "\n",
      "Epoch 00080: val_loss did not improve from 0.46589\n",
      "Epoch 81/100\n",
      "64/64 [==============================] - 0s 573us/step - loss: 1.5929 - accuracy: 0.7656 - val_loss: 0.5727 - val_accuracy: 0.8125\n",
      "\n",
      "Epoch 00081: val_loss did not improve from 0.46589\n",
      "Epoch 82/100\n",
      "64/64 [==============================] - 0s 616us/step - loss: 1.2535 - accuracy: 0.7812 - val_loss: 0.5501 - val_accuracy: 0.8125\n",
      "\n",
      "Epoch 00082: val_loss did not improve from 0.46589\n",
      "Epoch 83/100\n",
      "64/64 [==============================] - 0s 781us/step - loss: 2.4092 - accuracy: 0.6875 - val_loss: 0.5083 - val_accuracy: 0.8125\n",
      "\n",
      "Epoch 00083: val_loss did not improve from 0.46589\n",
      "Epoch 84/100\n",
      "64/64 [==============================] - 0s 552us/step - loss: 1.5690 - accuracy: 0.7344 - val_loss: 0.4875 - val_accuracy: 0.8125\n",
      "\n",
      "Epoch 00084: val_loss did not improve from 0.46589\n",
      "Epoch 85/100\n",
      "64/64 [==============================] - 0s 567us/step - loss: 2.1788 - accuracy: 0.6875 - val_loss: 0.4675 - val_accuracy: 0.8125\n",
      "\n",
      "Epoch 00085: val_loss did not improve from 0.46589\n",
      "Epoch 86/100\n",
      "64/64 [==============================] - 0s 841us/step - loss: 1.2029 - accuracy: 0.8281 - val_loss: 0.4410 - val_accuracy: 0.8125\n",
      "\n",
      "Epoch 00086: val_loss improved from 0.46589 to 0.44096, saving model to saved_models/weights.best.basic_mlp.hdf5\n",
      "Epoch 87/100\n",
      "64/64 [==============================] - 0s 428us/step - loss: 1.6622 - accuracy: 0.7344 - val_loss: 0.4298 - val_accuracy: 0.7500\n",
      "\n",
      "Epoch 00087: val_loss improved from 0.44096 to 0.42980, saving model to saved_models/weights.best.basic_mlp.hdf5\n",
      "Epoch 88/100\n",
      "64/64 [==============================] - 0s 810us/step - loss: 0.9817 - accuracy: 0.7500 - val_loss: 0.4299 - val_accuracy: 0.7500\n",
      "\n",
      "Epoch 00088: val_loss did not improve from 0.42980\n",
      "Epoch 89/100\n",
      "64/64 [==============================] - 0s 1ms/step - loss: 1.3886 - accuracy: 0.7188 - val_loss: 0.4285 - val_accuracy: 0.7500\n",
      "\n",
      "Epoch 00089: val_loss improved from 0.42980 to 0.42846, saving model to saved_models/weights.best.basic_mlp.hdf5\n",
      "Epoch 90/100\n",
      "64/64 [==============================] - 0s 205us/step - loss: 1.3720 - accuracy: 0.7969 - val_loss: 0.4241 - val_accuracy: 0.7500\n",
      "\n",
      "Epoch 00090: val_loss improved from 0.42846 to 0.42413, saving model to saved_models/weights.best.basic_mlp.hdf5\n",
      "Epoch 91/100\n",
      "64/64 [==============================] - 0s 227us/step - loss: 1.1218 - accuracy: 0.7500 - val_loss: 0.4205 - val_accuracy: 0.8125\n",
      "\n",
      "Epoch 00091: val_loss improved from 0.42413 to 0.42049, saving model to saved_models/weights.best.basic_mlp.hdf5\n",
      "Epoch 92/100\n",
      "64/64 [==============================] - 0s 177us/step - loss: 1.1849 - accuracy: 0.7188 - val_loss: 0.4199 - val_accuracy: 0.8125\n",
      "\n",
      "Epoch 00092: val_loss improved from 0.42049 to 0.41988, saving model to saved_models/weights.best.basic_mlp.hdf5\n",
      "Epoch 93/100\n",
      "64/64 [==============================] - 0s 467us/step - loss: 1.1406 - accuracy: 0.8125 - val_loss: 0.4221 - val_accuracy: 0.8125\n",
      "\n",
      "Epoch 00093: val_loss did not improve from 0.41988\n",
      "Epoch 94/100\n",
      "64/64 [==============================] - 0s 537us/step - loss: 1.3876 - accuracy: 0.6406 - val_loss: 0.4331 - val_accuracy: 0.8125\n",
      "\n",
      "Epoch 00094: val_loss did not improve from 0.41988\n",
      "Epoch 95/100\n",
      "64/64 [==============================] - 0s 617us/step - loss: 1.7649 - accuracy: 0.7344 - val_loss: 0.4361 - val_accuracy: 0.8125\n",
      "\n",
      "Epoch 00095: val_loss did not improve from 0.41988\n",
      "Epoch 96/100\n",
      "64/64 [==============================] - 0s 569us/step - loss: 1.4381 - accuracy: 0.7500 - val_loss: 0.4291 - val_accuracy: 0.8125\n",
      "\n",
      "Epoch 00096: val_loss did not improve from 0.41988\n",
      "Epoch 97/100\n",
      "64/64 [==============================] - ETA: 0s - loss: 1.4027 - accuracy: 0.65 - 0s 640us/step - loss: 1.4298 - accuracy: 0.7188 - val_loss: 0.4226 - val_accuracy: 0.8125\n",
      "\n",
      "Epoch 00097: val_loss did not improve from 0.41988\n",
      "Epoch 98/100\n",
      "64/64 [==============================] - 0s 658us/step - loss: 1.4194 - accuracy: 0.7188 - val_loss: 0.4098 - val_accuracy: 0.8125\n",
      "\n",
      "Epoch 00098: val_loss improved from 0.41988 to 0.40983, saving model to saved_models/weights.best.basic_mlp.hdf5\n",
      "Epoch 99/100\n",
      "64/64 [==============================] - 0s 371us/step - loss: 1.0501 - accuracy: 0.7344 - val_loss: 0.3990 - val_accuracy: 0.8750\n",
      "\n",
      "Epoch 00099: val_loss improved from 0.40983 to 0.39904, saving model to saved_models/weights.best.basic_mlp.hdf5\n",
      "Epoch 100/100\n",
      "64/64 [==============================] - 0s 451us/step - loss: 1.1628 - accuracy: 0.7188 - val_loss: 0.3976 - val_accuracy: 0.8125\n",
      "\n",
      "Epoch 00100: val_loss improved from 0.39904 to 0.39764, saving model to saved_models/weights.best.basic_mlp.hdf5\n",
      "Training completed in time:  0:00:07.459920\n"
     ]
    }
   ],
   "source": [
    "from keras.callbacks import ModelCheckpoint \n",
    "from datetime import datetime \n",
    "\n",
    "num_epochs = 100\n",
    "num_batch_size = 32\n",
    "\n",
    "checkpointer = ModelCheckpoint(filepath='saved_models/weights.best.basic_mlp.hdf5', \n",
    "                               verbose=1, save_best_only=True)\n",
    "start = datetime.now()\n",
    "\n",
    "model.fit(x_train, y_train, batch_size=num_batch_size, epochs=num_epochs, validation_data=(x_test, y_test), callbacks=[checkpointer], verbose=1)\n",
    "\n",
    "\n",
    "duration = datetime.now() - start\n",
    "print(\"Training completed in time: \", duration)"
   ]
  },
  {
   "cell_type": "markdown",
   "metadata": {},
   "source": [
    "### Test the model \n",
    "\n",
    "Here we will review the accuracy of the model on both the training and test data sets. "
   ]
  },
  {
   "cell_type": "code",
   "execution_count": 24,
   "metadata": {},
   "outputs": [
    {
     "name": "stdout",
     "output_type": "stream",
     "text": [
      "Training Accuracy:  0.859375\n",
      "Testing Accuracy:  0.8125\n"
     ]
    }
   ],
   "source": [
    "# Evaluating the model on the training and testing set\n",
    "score = model.evaluate(x_train, y_train, verbose=0)\n",
    "print(\"Training Accuracy: \", score[1])\n",
    "\n",
    "score = model.evaluate(x_test, y_test, verbose=0)\n",
    "print(\"Testing Accuracy: \", score[1])"
   ]
  },
  {
   "cell_type": "markdown",
   "metadata": {},
   "source": [
    "The initial Training and Testing accuracy scores are quite high. As there is not a great difference between the Training and Test scores (~5%) this suggests that the model has not suffered from overfitting. "
   ]
  },
  {
   "cell_type": "markdown",
   "metadata": {},
   "source": [
    "### Predictions  \n",
    "\n",
    "Here we will build a method which will allow us to test the models predictions on a specified audio .wav file. "
   ]
  },
  {
   "cell_type": "code",
   "execution_count": 25,
   "metadata": {},
   "outputs": [],
   "source": [
    "import librosa \n",
    "import numpy as np \n",
    "\n",
    "def extract_feature(file_name):\n",
    "   \n",
    "    try:\n",
    "        audio_data, sample_rate = librosa.load(file_name, res_type='kaiser_fast') \n",
    "        mfccs = librosa.feature.mfcc(y=audio_data, sr=sample_rate, n_mfcc=40)\n",
    "        mfccsscaled = np.mean(mfccs.T,axis=0)\n",
    "        \n",
    "    except Exception as e:\n",
    "        print(\"Error encountered while parsing file: \", file)\n",
    "        return None, None\n",
    "\n",
    "    return np.array([mfccsscaled])\n"
   ]
  },
  {
   "cell_type": "code",
   "execution_count": 26,
   "metadata": {},
   "outputs": [],
   "source": [
    "def print_prediction(file_name):\n",
    "    prediction_feature = extract_feature(file_name) \n",
    "\n",
    "    predicted_vector = model.predict_classes(prediction_feature)\n",
    "    predicted_class = le.inverse_transform(predicted_vector) \n",
    "    print(\"The predicted class is:\", predicted_class[0], '\\n') \n",
    "\n",
    "    predicted_proba_vector = model.predict_proba(prediction_feature) \n",
    "    predicted_proba = predicted_proba_vector[0]\n",
    "    for i in range(len(predicted_proba)): \n",
    "        category = le.inverse_transform(np.array([i]))\n",
    "        print(category[0], \"\\t\\t : \", format(predicted_proba[i], '.32f') )"
   ]
  },
  {
   "cell_type": "markdown",
   "metadata": {},
   "source": [
    "### Validation \n",
    "\n",
    "#### Test with sample data \n",
    "\n",
    "Initial sainity check to verify the predictions using a subsection of the sample audio files we explored in the first notebook. We expect the bulk of these to be classified correctly. "
   ]
  },
  {
   "cell_type": "code",
   "execution_count": 34,
   "metadata": {},
   "outputs": [
    {
     "name": "stdout",
     "output_type": "stream",
     "text": [
      "The predicted class is: 2 \n",
      "\n",
      "1 \t\t :  0.30902108550071716308593750000000\n",
      "2 \t\t :  0.69097888469696044921875000000000\n"
     ]
    }
   ],
   "source": [
    "# Class: Air Conditioner\n",
    "\n",
    "filename = '../tests/_9YKlnmoDjs.wav' \n",
    "print_prediction(filename) "
   ]
  },
  {
   "cell_type": "code",
   "execution_count": 18,
   "metadata": {
    "scrolled": true
   },
   "outputs": [
    {
     "name": "stdout",
     "output_type": "stream",
     "text": [
      "The predicted class is: dog_bark \n",
      "\n",
      "air_conditioner \t\t :  0.00384365743957459926605224609375\n",
      "car_horn \t\t :  0.00000000000131466517359901668982\n",
      "children_playing \t\t :  0.00000000000000011770586887238491\n",
      "dog_bark \t\t :  0.99615639448165893554687500000000\n",
      "street_music \t\t :  0.00000000000000000000000163493799\n"
     ]
    }
   ],
   "source": [
    "# Class: Drilling\n",
    "\n",
    "filename = '../UrbanSound Dataset sample/audio/103199-4-0-0.wav'\n",
    "print_prediction(filename) "
   ]
  },
  {
   "cell_type": "code",
   "execution_count": 19,
   "metadata": {},
   "outputs": [
    {
     "name": "stdout",
     "output_type": "stream",
     "text": [
      "The predicted class is: street_music \n",
      "\n",
      "air_conditioner \t\t :  0.00000000000000000000000000000000\n",
      "car_horn \t\t :  0.00000000000000000000000000000000\n",
      "children_playing \t\t :  0.00000000000000000000000000000000\n",
      "dog_bark \t\t :  0.00000000000000000000000000000000\n",
      "street_music \t\t :  1.00000000000000000000000000000000\n"
     ]
    }
   ],
   "source": [
    "# Class: Street music \n",
    "\n",
    "filename = '../UrbanSound Dataset sample/audio/101848-9-0-0.wav'\n",
    "print_prediction(filename) "
   ]
  },
  {
   "cell_type": "code",
   "execution_count": 20,
   "metadata": {},
   "outputs": [
    {
     "name": "stdout",
     "output_type": "stream",
     "text": [
      "The predicted class is: car_horn \n",
      "\n",
      "air_conditioner \t\t :  0.00000000000000000000000000000007\n",
      "car_horn \t\t :  1.00000000000000000000000000000000\n",
      "children_playing \t\t :  0.00000000000000000000000000000000\n",
      "dog_bark \t\t :  0.00000000000000000000000000000000\n",
      "street_music \t\t :  0.00000000000000000000000000294784\n"
     ]
    }
   ],
   "source": [
    "# Class: Car Horn \n",
    "\n",
    "filename = '../UrbanSound Dataset sample/audio/100648-1-0-0.wav'\n",
    "print_prediction(filename) "
   ]
  },
  {
   "cell_type": "markdown",
   "metadata": {},
   "source": [
    "#### Observations \n",
    "\n",
    "From this brief sanity check the model seems to predict well. One errror was observed whereby a car horn was incorrectly classifed as a dog bark. \n",
    "\n",
    "We can see from the per class confidence that this was quite a low score (43%). This allows follows our early observation that a dog bark and car horn are similar in spectral shape. "
   ]
  },
  {
   "cell_type": "markdown",
   "metadata": {},
   "source": [
    "### Other audio\n",
    "\n",
    "Here we will use a sample of various copyright free sounds that we not part of either our test or training data to further validate our model. "
   ]
  },
  {
   "cell_type": "code",
   "execution_count": 21,
   "metadata": {},
   "outputs": [
    {
     "name": "stdout",
     "output_type": "stream",
     "text": [
      "The predicted class is: street_music \n",
      "\n",
      "air_conditioner \t\t :  0.00000000000000000000000000000000\n",
      "car_horn \t\t :  0.00000000000000030691664449542216\n",
      "children_playing \t\t :  0.00000000000000000000000000000000\n",
      "dog_bark \t\t :  0.00000000000000000005318795249406\n",
      "street_music \t\t :  1.00000000000000000000000000000000\n"
     ]
    }
   ],
   "source": [
    "filename = '../Evaluation audio/dog_bark_1.wav'\n",
    "print_prediction(filename) "
   ]
  },
  {
   "cell_type": "code",
   "execution_count": 22,
   "metadata": {
    "scrolled": true
   },
   "outputs": [
    {
     "name": "stdout",
     "output_type": "stream",
     "text": [
      "The predicted class is: street_music \n",
      "\n",
      "air_conditioner \t\t :  0.00000000000090129704914676533889\n",
      "car_horn \t\t :  0.00000000000000135955246660538018\n",
      "children_playing \t\t :  0.00000000000000000000000481491982\n",
      "dog_bark \t\t :  0.00000000000000000000000000007769\n",
      "street_music \t\t :  1.00000000000000000000000000000000\n"
     ]
    }
   ],
   "source": [
    "filename = '../Evaluation audio/drilling_1.wav'\n",
    "\n",
    "print_prediction(filename) "
   ]
  },
  {
   "cell_type": "code",
   "execution_count": 23,
   "metadata": {},
   "outputs": [
    {
     "name": "stdout",
     "output_type": "stream",
     "text": [
      "The predicted class is: street_music \n",
      "\n",
      "air_conditioner \t\t :  0.00000000000000000000000000000000\n",
      "car_horn \t\t :  0.00000000000000000000000000000000\n",
      "children_playing \t\t :  0.00000000000000000000000000000000\n",
      "dog_bark \t\t :  0.00000000000000000000000000000000\n",
      "street_music \t\t :  1.00000000000000000000000000000000\n"
     ]
    }
   ],
   "source": [
    "filename = '../Evaluation audio/gun_shot_1.wav'\n",
    "\n",
    "print_prediction(filename) \n",
    "\n",
    "# sample data weighted towards gun shot - peak in the dog barking sample is simmilar in shape to the gun shot sample"
   ]
  },
  {
   "cell_type": "code",
   "execution_count": 24,
   "metadata": {},
   "outputs": [
    {
     "name": "stdout",
     "output_type": "stream",
     "text": [
      "The predicted class is: street_music \n",
      "\n",
      "air_conditioner \t\t :  0.00000000000000000000000000000000\n",
      "car_horn \t\t :  0.00000000000000000000000000000000\n",
      "children_playing \t\t :  0.00000000000000000000000000000000\n",
      "dog_bark \t\t :  0.00000000000000000000000000000000\n",
      "street_music \t\t :  1.00000000000000000000000000000000\n"
     ]
    }
   ],
   "source": [
    "filename = '../Evaluation audio/siren_1.wav'\n",
    "\n",
    "print_prediction(filename) "
   ]
  },
  {
   "cell_type": "markdown",
   "metadata": {},
   "source": [
    "#### Observations \n",
    "\n",
    "The performance of our initial model is satisfactorry and has generalised well, seeming to predict well when tested against new audio data. "
   ]
  },
  {
   "cell_type": "markdown",
   "metadata": {},
   "source": [
    "### *In the next notebook we will refine our model*"
   ]
  }
 ],
 "metadata": {
  "kernelspec": {
   "display_name": "Python 3",
   "language": "python",
   "name": "python3"
  },
  "language_info": {
   "codemirror_mode": {
    "name": "ipython",
    "version": 3
   },
   "file_extension": ".py",
   "mimetype": "text/x-python",
   "name": "python",
   "nbconvert_exporter": "python",
   "pygments_lexer": "ipython3",
   "version": "3.6.9"
  }
 },
 "nbformat": 4,
 "nbformat_minor": 2
}
