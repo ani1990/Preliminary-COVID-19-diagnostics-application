{
 "cells": [
  {
   "cell_type": "markdown",
   "metadata": {},
   "source": [
    "# Classifying Urban sounds using Deep Learning\n",
    "\n",
    "## 2 Data Preprocessing and Data Splitting"
   ]
  },
  {
   "cell_type": "markdown",
   "metadata": {},
   "source": [
    "### Audio properties that will require normalising \n",
    "\n",
    "Following on from the previous notebook, we identifed the following audio properties that need preprocessing to ensure consistency across the whole dataset:  \n",
    "\n",
    "- Audio Channels\n",
    "- Sample rate \n",
    "- Bit-depth\n",
    "\n",
    "We will continue to use Librosa which will be useful for the pre-processing and feature extraction. "
   ]
  },
  {
   "cell_type": "markdown",
   "metadata": {},
   "source": [
    "### Preprocessing stage \n",
    "\n",
    "For much of the preprocessing we will be able to use [Librosa's load() function.](https://librosa.github.io/librosa/generated/librosa.core.load.html) \n",
    "\n",
    "We will compare the outputs from Librosa against the default outputs of [scipy's wavfile library](https://docs.scipy.org/doc/scipy-0.14.0/reference/generated/scipy.io.wavfile.read.html) using a chosen file from the dataset. \n",
    "\n",
    "#### Sample rate conversion \n",
    "\n",
    "By default, Librosa’s load function converts the sampling rate to 22.05 KHz which we can use as our comparison level. "
   ]
  },
  {
   "cell_type": "code",
   "execution_count": 23,
   "metadata": {},
   "outputs": [
    {
     "name": "stdout",
     "output_type": "stream",
     "text": [
      "Original sample rate: 16000\n",
      "Librosa sample rate: 22050\n"
     ]
    }
   ],
   "source": [
    "import librosa \n",
    "from scipy.io import wavfile as wav\n",
    "import numpy as np\n",
    "\n",
    "filename = '../tests/_9YKlnmoDjs.wav' \n",
    "\n",
    "librosa_audio, librosa_sample_rate = librosa.load(filename) \n",
    "scipy_sample_rate, scipy_audio = wav.read(filename) \n",
    "\n",
    "print('Original sample rate:', scipy_sample_rate) \n",
    "print('Librosa sample rate:', librosa_sample_rate) "
   ]
  },
  {
   "cell_type": "markdown",
   "metadata": {},
   "source": [
    "#### Bit-depth \n",
    "\n",
    "Librosa’s load function will also normalise the data so it's values range between -1 and 1. This removes the complication of the dataset having a wide range of bit-depths. "
   ]
  },
  {
   "cell_type": "code",
   "execution_count": 24,
   "metadata": {},
   "outputs": [
    {
     "name": "stdout",
     "output_type": "stream",
     "text": [
      "Original audio file min~max range: -10182 to 11251\n",
      "Librosa audio file min~max range: -0.30935058 to 0.35226786\n"
     ]
    }
   ],
   "source": [
    "print('Original audio file min~max range:', np.min(scipy_audio), 'to', np.max(scipy_audio))\n",
    "print('Librosa audio file min~max range:', np.min(librosa_audio), 'to', np.max(librosa_audio))"
   ]
  },
  {
   "cell_type": "markdown",
   "metadata": {},
   "source": [
    "#### Merge audio channels \n",
    "\n",
    "Librosa will also convert the signal to mono, meaning the number of channels will always be 1. "
   ]
  },
  {
   "cell_type": "code",
   "execution_count": 4,
   "metadata": {},
   "outputs": [
    {
     "data": {
      "text/plain": [
       "[<matplotlib.lines.Line2D at 0x7f3416fcfd68>]"
      ]
     },
     "execution_count": 4,
     "metadata": {},
     "output_type": "execute_result"
    }
   ],
   "source": [
    "import matplotlib.pyplot as plt\n",
    "\n",
    "# Original audio with 2 channels \n",
    "plt.figure(figsize=(12, 4))\n",
    "plt.plot(scipy_audio)"
   ]
  },
  {
   "cell_type": "code",
   "execution_count": 5,
   "metadata": {},
   "outputs": [
    {
     "data": {
      "text/plain": [
       "[<matplotlib.lines.Line2D at 0x7f3416dbb588>]"
      ]
     },
     "execution_count": 5,
     "metadata": {},
     "output_type": "execute_result"
    },
    {
     "data": {
      "image/png": "[encoded data removed]",
      "text/plain": [
       "<Figure size 864x288 with 1 Axes>"
      ]
     },
     "metadata": {
      "needs_background": "light"
     },
     "output_type": "display_data"
    }
   ],
   "source": [
    "# Librosa audio with channels merged \n",
    "plt.figure(figsize=(12, 4))\n",
    "plt.plot(librosa_audio)"
   ]
  },
  {
   "cell_type": "markdown",
   "metadata": {},
   "source": [
    "#### Other audio properties to consider\n",
    "\n",
    "At this stage it is not yet clear whether other factors may also need to be taken into account, such as sample duration length and volume levels. \n",
    "\n",
    "We will proceed as is for the meantime and come back to address these later if it's perceived to be effecting the validity of our target metrics. "
   ]
  },
  {
   "cell_type": "markdown",
   "metadata": {},
   "source": [
    "### Extract Features \n",
    "\n",
    "As outlined in the proposal, we will extract [Mel-Frequency Cepstral Coefficients (MFCC)](https://en.wikipedia.org/wiki/Mel-frequency_cepstrum) from the the audio samples. \n",
    "\n",
    "The MFCC summarises the frequency distribution across the window size, so it is possible to analyse both the frequency and time characteristics of the sound. These audio representations will allow us to identify features for classification. "
   ]
  },
  {
   "cell_type": "markdown",
   "metadata": {},
   "source": [
    "#### Extracting a MFCC\n",
    "\n",
    "For this we will use [Librosa's mfcc() function](https://librosa.github.io/librosa/generated/librosa.feature.mfcc.html) which generates an MFCC from time series audio data. "
   ]
  },
  {
   "cell_type": "code",
   "execution_count": 6,
   "metadata": {},
   "outputs": [
    {
     "name": "stdout",
     "output_type": "stream",
     "text": [
      "(40, 216)\n"
     ]
    }
   ],
   "source": [
    "mfccs = librosa.feature.mfcc(y=librosa_audio, sr=librosa_sample_rate, n_mfcc=40)\n",
    "print(mfccs.shape)"
   ]
  },
  {
   "cell_type": "markdown",
   "metadata": {},
   "source": [
    "This shows librosa calculated a series of 40 MFCCs over 173 frames. "
   ]
  },
  {
   "cell_type": "code",
   "execution_count": 7,
   "metadata": {},
   "outputs": [
    {
     "data": {
      "text/plain": [
       "<matplotlib.axes._subplots.AxesSubplot at 0x7f3416dc8eb8>"
      ]
     },
     "execution_count": 7,
     "metadata": {},
     "output_type": "execute_result"
    },
    {
     "data": {
      "image/png": "[encoded data removed]",
      "text/plain": [
       "<Figure size 432x288 with 1 Axes>"
      ]
     },
     "metadata": {
      "needs_background": "light"
     },
     "output_type": "display_data"
    }
   ],
   "source": [
    "import librosa.display\n",
    "librosa.display.specshow(mfccs, sr=librosa_sample_rate, x_axis='time')"
   ]
  },
  {
   "cell_type": "markdown",
   "metadata": {},
   "source": [
    "#### Extracting MFCC's for every file \n",
    "\n",
    "We will now extract an MFCC for each audio file in the dataset and store it in a Panda Dataframe along with it's classification label. "
   ]
  },
  {
   "cell_type": "code",
   "execution_count": 25,
   "metadata": {},
   "outputs": [],
   "source": [
    "def extract_features(file_name):\n",
    "   \n",
    "    try:\n",
    "        audio, sample_rate = librosa.load(file_name, res_type='kaiser_fast') \n",
    "        mfccs = librosa.feature.mfcc(y=audio, sr=sample_rate, n_mfcc=40)\n",
    "        mfccsscaled = np.mean(mfccs.T,axis=0)\n",
    "        \n",
    "    except Exception as e:\n",
    "        print(\"Error encountered while parsing file: \", file)\n",
    "        return None \n",
    "     \n",
    "    return mfccsscaled"
   ]
  },
  {
   "cell_type": "code",
   "execution_count": 26,
   "metadata": {},
   "outputs": [
    {
     "name": "stdout",
     "output_type": "stream",
     "text": [
      "Finished feature extraction from  80  files\n"
     ]
    }
   ],
   "source": [
    "# Load various imports \n",
    "import pandas as pd\n",
    "import os\n",
    "import librosa\n",
    "\n",
    "# Set the path to the full UrbanSound dataset \n",
    "fulldatasetpath = '/home/animesh/ESC-50-master/audio'\n",
    "\n",
    "metadata = pd.read_csv('/home/animesh/ESC-50-master/meta/esc50.csv')\n",
    "\n",
    "features = []\n",
    "\n",
    "# Iterate through each sound file and extract the features \n",
    "for index, row in metadata.iterrows():\n",
    "    \n",
    "    #file_name = os.path.join(os.path.abspath(fulldatasetpath),'fold'+str(row[\"fold\"])+'/',str(row[\"slice_file_name\"]))\n",
    "    file_name = os.path.join(os.path.abspath('/home/animesh/ESC-50-master/audio/'),str(row[\"filename\"]))\n",
    "    class_label = row[\"target\"]\n",
    "    data = extract_features(file_name)\n",
    "    \n",
    "    features.append([data, class_label])\n",
    "\n",
    "# Convert into a Panda dataframe \n",
    "featuresdf = pd.DataFrame(features, columns=['feature','class_label'])\n",
    "\n",
    "print('Finished feature extraction from ', len(featuresdf), ' files') "
   ]
  },
  {
   "cell_type": "markdown",
   "metadata": {},
   "source": [
    "### Convert the data and labels\n",
    "\n",
    "We will use `sklearn.preprocessing.LabelEncoder` to encode the categorical text data into model-understandable numerical data. "
   ]
  },
  {
   "cell_type": "code",
   "execution_count": 27,
   "metadata": {},
   "outputs": [],
   "source": [
    "featuresdf.loc[featuresdf['class_label'] != 24,'class_label'] = 2\n",
    "featuresdf.loc[featuresdf['class_label'] == 24,'class_label'] = 1"
   ]
  },
  {
   "cell_type": "code",
   "execution_count": 28,
   "metadata": {},
   "outputs": [
    {
     "name": "stdout",
     "output_type": "stream",
     "text": [
      "40\n"
     ]
    }
   ],
   "source": [
    "count=0\n",
    "for index in featuresdf['class_label']:\n",
    "    if index == 2:\n",
    "        count+=1\n",
    "print(count)"
   ]
  },
  {
   "cell_type": "code",
   "execution_count": 29,
   "metadata": {},
   "outputs": [],
   "source": [
    "from sklearn.preprocessing import LabelEncoder\n",
    "from keras.utils import to_categorical\n",
    "\n",
    "# Convert features and corresponding classification labels into numpy arrays\n",
    "X = np.array(featuresdf.feature.tolist())\n",
    "y = np.array(featuresdf.class_label.tolist())\n",
    "\n",
    "# Encode the classification labels\n",
    "le = LabelEncoder()\n",
    "yy = np.int_(to_categorical(le.fit_transform(y)))"
   ]
  },
  {
   "cell_type": "code",
   "execution_count": 30,
   "metadata": {},
   "outputs": [
    {
     "data": {
      "text/plain": [
       "array([[0, 1],\n",
       "       [0, 1],\n",
       "       [0, 1],\n",
       "       [0, 1],\n",
       "       [0, 1],\n",
       "       [0, 1],\n",
       "       [0, 1],\n",
       "       [0, 1],\n",
       "       [0, 1],\n",
       "       [0, 1],\n",
       "       [0, 1],\n",
       "       [0, 1],\n",
       "       [0, 1],\n",
       "       [0, 1],\n",
       "       [0, 1],\n",
       "       [0, 1],\n",
       "       [0, 1],\n",
       "       [0, 1],\n",
       "       [0, 1],\n",
       "       [0, 1],\n",
       "       [0, 1],\n",
       "       [0, 1],\n",
       "       [0, 1],\n",
       "       [0, 1],\n",
       "       [0, 1],\n",
       "       [0, 1],\n",
       "       [0, 1],\n",
       "       [0, 1],\n",
       "       [0, 1],\n",
       "       [1, 0],\n",
       "       [1, 0],\n",
       "       [1, 0],\n",
       "       [0, 1],\n",
       "       [1, 0],\n",
       "       [1, 0],\n",
       "       [1, 0],\n",
       "       [1, 0],\n",
       "       [0, 1],\n",
       "       [1, 0],\n",
       "       [0, 1],\n",
       "       [0, 1],\n",
       "       [0, 1],\n",
       "       [0, 1],\n",
       "       [0, 1],\n",
       "       [0, 1],\n",
       "       [0, 1],\n",
       "       [0, 1],\n",
       "       [0, 1],\n",
       "       [1, 0],\n",
       "       [1, 0],\n",
       "       [1, 0],\n",
       "       [1, 0],\n",
       "       [1, 0],\n",
       "       [1, 0],\n",
       "       [1, 0],\n",
       "       [1, 0],\n",
       "       [1, 0],\n",
       "       [1, 0],\n",
       "       [1, 0],\n",
       "       [1, 0],\n",
       "       [1, 0],\n",
       "       [1, 0],\n",
       "       [1, 0],\n",
       "       [1, 0],\n",
       "       [1, 0],\n",
       "       [1, 0],\n",
       "       [1, 0],\n",
       "       [1, 0],\n",
       "       [1, 0],\n",
       "       [1, 0],\n",
       "       [1, 0],\n",
       "       [1, 0],\n",
       "       [1, 0],\n",
       "       [1, 0],\n",
       "       [1, 0],\n",
       "       [1, 0],\n",
       "       [1, 0],\n",
       "       [1, 0],\n",
       "       [1, 0],\n",
       "       [1, 0]])"
      ]
     },
     "execution_count": 30,
     "metadata": {},
     "output_type": "execute_result"
    }
   ],
   "source": [
    "yy"
   ]
  },
  {
   "cell_type": "markdown",
   "metadata": {},
   "source": [
    "### Split the dataset\n",
    "\n",
    "Here we will use `sklearn.model_selection.train_test_split` to split the dataset into training and testing sets. The testing set size will be 20% and we will set a random state. \n"
   ]
  },
  {
   "cell_type": "code",
   "execution_count": 31,
   "metadata": {},
   "outputs": [],
   "source": [
    "# split the dataset \n",
    "from sklearn.model_selection import train_test_split \n",
    "\n",
    "x_train, x_test, y_train, y_test = train_test_split(X, yy, test_size=0.2, random_state = 42)"
   ]
  },
  {
   "cell_type": "markdown",
   "metadata": {},
   "source": [
    "### Store the preprocessed data "
   ]
  },
  {
   "cell_type": "code",
   "execution_count": 32,
   "metadata": {},
   "outputs": [
    {
     "name": "stdout",
     "output_type": "stream",
     "text": [
      "Stored 'x_train' (ndarray)\n",
      "Stored 'x_test' (ndarray)\n",
      "Stored 'y_train' (ndarray)\n",
      "Stored 'y_test' (ndarray)\n",
      "Stored 'yy' (ndarray)\n",
      "Stored 'le' (LabelEncoder)\n"
     ]
    }
   ],
   "source": [
    "### store the preprocessed data for use in the next notebook\n",
    "\n",
    "%store x_train \n",
    "%store x_test \n",
    "%store y_train \n",
    "%store y_test \n",
    "%store yy \n",
    "%store le"
   ]
  },
  {
   "cell_type": "markdown",
   "metadata": {},
   "source": [
    "### *In the next notebook we will develop our model*"
   ]
  },
  {
   "cell_type": "code",
   "execution_count": 33,
   "metadata": {},
   "outputs": [
    {
     "data": {
      "text/plain": [
       "array([[-8.24122192e+02,  1.54320555e+01, -1.29177523e+00,\n",
       "         4.08799314e+00, -2.86585236e+00, -2.28608155e+00,\n",
       "        -1.22994828e+00,  2.80345106e+00, -1.37149286e+00,\n",
       "         2.74736953e+00,  2.28521064e-01,  7.81922460e-01,\n",
       "        -1.50564039e+00,  2.57934451e-01,  4.88236487e-01,\n",
       "         8.65700006e-01, -2.64077693e-01,  9.75431800e-01,\n",
       "        -6.28287733e-01, -5.52825630e-01, -1.13564581e-01,\n",
       "        -4.12593216e-01,  7.04634070e-01,  6.21359013e-02,\n",
       "         2.93175101e-01,  3.10451001e-01, -3.09857130e-01,\n",
       "         6.35241628e-01,  5.05020693e-02,  2.22556427e-01,\n",
       "        -3.25258404e-01,  3.23575377e-01,  1.45703509e-01,\n",
       "        -2.83796459e-01,  6.59751743e-02,  5.84422052e-01,\n",
       "         2.98429102e-01,  1.78637862e-01,  2.48729289e-01,\n",
       "         1.25585914e-01],\n",
       "       [-7.45228424e+01,  8.69086075e+01, -3.93689561e+00,\n",
       "         5.27916718e+01,  6.61136866e+00,  2.55777969e+01,\n",
       "         1.02384217e-01,  1.59790258e+01, -1.12398090e+01,\n",
       "         8.43870449e+00, -1.75514679e+01,  1.54662771e+01,\n",
       "        -5.86121416e+00,  1.10195980e+01,  1.14308858e+00,\n",
       "         3.91924644e+00, -4.24189377e+00,  1.52166724e+00,\n",
       "        -6.51980591e+00,  7.29148817e+00, -3.03503156e+00,\n",
       "         8.62494373e+00, -3.60887319e-01,  3.51315713e+00,\n",
       "         1.59454966e+00,  1.13357639e+00, -1.06908798e+00,\n",
       "         2.51876521e+00, -2.88308668e+00, -2.00301632e-01,\n",
       "        -1.96153149e-02,  1.08221936e+00,  7.60997891e-01,\n",
       "         8.19202423e-01,  3.62603925e-02,  1.61711586e+00,\n",
       "        -1.55189741e+00,  1.11144090e+00, -1.50087440e+00,\n",
       "        -1.17022383e+00],\n",
       "       [-5.11789062e+02,  5.21692848e+01, -1.00436077e+01,\n",
       "         1.29497566e+01, -2.12826467e+00,  3.43241715e+00,\n",
       "        -6.75621414e+00,  3.20477605e+00, -9.66256976e-01,\n",
       "         8.63260460e+00,  1.68558216e+00,  4.04770088e+00,\n",
       "        -2.59068131e+00,  4.30082053e-01, -1.01701653e+00,\n",
       "         1.96852195e+00, -2.57371688e+00, -6.36304379e-01,\n",
       "        -1.00250626e+00,  9.94702399e-01, -9.84888971e-01,\n",
       "         1.41700912e+00,  2.08106250e-01,  1.06392407e+00,\n",
       "         7.29397237e-01,  1.26636982e+00,  2.08280253e+00,\n",
       "         1.24735439e+00,  2.11435705e-01,  3.95397723e-01,\n",
       "         3.75879437e-01, -7.64714301e-01,  7.76585758e-01,\n",
       "         1.24323821e+00,  7.03473270e-01, -1.22531116e-01,\n",
       "         6.58051610e-01,  2.74860024e-01,  1.64859548e-01,\n",
       "        -1.18552983e+00],\n",
       "       [-4.75637146e+02,  4.21863861e+01,  7.38529742e-01,\n",
       "         8.70008945e+00,  8.22551346e+00,  5.73976231e+00,\n",
       "        -6.22050858e+00,  3.51854110e+00, -2.62584352e+00,\n",
       "         5.15430593e+00,  4.19838130e-01,  2.47176003e+00,\n",
       "        -1.32674122e+00,  2.24111366e+00, -4.70665216e+00,\n",
       "         5.10344446e-01, -6.75305426e-01, -1.55089653e+00,\n",
       "        -5.93636990e-01, -8.78087103e-01, -2.39635277e+00,\n",
       "        -1.51198757e+00, -9.40052569e-01, -4.25466955e-01,\n",
       "        -1.36287034e+00,  6.90183491e-02,  9.80412364e-01,\n",
       "         6.00823700e-01, -7.18186855e-01, -4.95636880e-01,\n",
       "        -1.10219412e-01, -2.04277933e-01,  1.57606530e+00,\n",
       "         1.86771646e-01,  3.17969859e-01,  5.18708289e-01,\n",
       "         3.15730482e-01,  1.81326598e-01, -2.17528697e-02,\n",
       "        -5.73958218e-01],\n",
       "       [-2.26927643e+02,  7.65158691e+01, -1.87115746e+01,\n",
       "         3.52486086e+00, -4.46005936e+01, -1.33993187e+01,\n",
       "        -2.96117630e+01, -1.64117260e+01, -3.30666428e+01,\n",
       "        -1.17044945e+01, -3.04041977e+01, -1.12440987e+01,\n",
       "        -2.05493088e+01, -3.81706285e+00, -1.95827599e+01,\n",
       "        -1.81500471e+00, -1.48871403e+01, -8.93019259e-01,\n",
       "        -9.45934772e+00, -1.11553013e+00, -5.93645144e+00,\n",
       "        -1.78836966e+00, -5.95050621e+00,  1.98949909e+00,\n",
       "        -4.55490923e+00,  1.74354696e+00, -2.37034297e+00,\n",
       "        -7.64270246e-01,  2.72782874e+00,  5.02449322e+00,\n",
       "         8.29128742e+00,  1.08600349e+01,  7.42586374e+00,\n",
       "         6.25625420e+00,  5.57170987e-01,  4.51492578e-01,\n",
       "        -1.58978045e+00,  1.57120943e+00,  1.66256309e+00,\n",
       "        -3.33573937e-01],\n",
       "       [-3.17801331e+02,  1.46889908e+02, -1.83843575e+01,\n",
       "         1.92930946e+01, -1.00005841e+00,  1.45415306e+01,\n",
       "         1.20079765e+01, -3.19944358e+00, -5.57269192e+00,\n",
       "         4.15426302e+00,  7.62045288e+00, -5.98292017e+00,\n",
       "        -4.79930353e+00, -8.03056431e+00, -6.07550240e+00,\n",
       "        -6.15803838e-01, -8.92152405e+00, -8.65394115e+00,\n",
       "        -1.03733711e+01, -6.57060051e+00,  1.78541028e+00,\n",
       "        -8.31291497e-01, -2.00899649e+00, -3.51539731e+00,\n",
       "        -6.83399677e+00,  3.06381851e-01,  8.67018104e-01,\n",
       "        -8.90654850e+00, -3.25522590e+00,  1.31264284e-01,\n",
       "        -1.97831786e+00, -1.97402084e+00, -3.34813023e+00,\n",
       "        -1.73861551e+00, -3.68048072e-01, -1.50213516e+00,\n",
       "        -1.90859449e+00, -2.26193023e+00, -3.89093375e+00,\n",
       "         2.19101354e-01],\n",
       "       [-3.44984558e+02,  4.59178696e+01, -1.01960182e+01,\n",
       "         1.50829554e+01,  6.41750240e+00,  6.45071602e+00,\n",
       "         1.74233449e+00,  2.15819216e+00, -2.80572963e+00,\n",
       "         1.93663359e+00,  1.63742745e+00,  1.18130553e+00,\n",
       "        -1.24180686e+00,  7.09740520e-01,  5.71565986e-01,\n",
       "         5.19136333e+00,  4.01945829e+00,  2.46069765e+00,\n",
       "         4.67595625e+00,  5.48112297e+00,  2.30784416e+00,\n",
       "         2.78272533e+00,  2.37723327e+00,  2.00348425e+00,\n",
       "         1.76116967e+00, -1.56873798e+00, -1.55729568e+00,\n",
       "         8.21667850e-01, -6.00104146e-02, -1.67600834e+00,\n",
       "        -8.87441993e-01, -8.34350467e-01, -2.50982851e-01,\n",
       "         1.16076422e+00,  2.81089473e+00,  5.46744919e+00,\n",
       "         7.30807161e+00,  5.21058035e+00,  2.45621848e+00,\n",
       "         9.26888227e-01],\n",
       "       [-4.40492188e+02,  6.41383820e+01, -1.58387012e+01,\n",
       "         1.00819321e+01, -9.35938835e+00, -1.24491656e+00,\n",
       "        -6.95313072e+00, -2.19664192e+00, -8.27878094e+00,\n",
       "         4.49216413e+00, -5.38126135e+00, -1.23844393e-01,\n",
       "        -3.48542166e+00,  4.55149412e+00, -1.77314138e+00,\n",
       "         2.16082454e+00, -3.77114654e+00,  2.96080804e+00,\n",
       "         1.15371287e+00, -2.62576890e+00, -1.06756473e+00,\n",
       "         1.73012435e-01,  9.34314430e-01, -2.31741935e-01,\n",
       "         7.15408564e-01,  2.69323897e+00, -3.31537127e-01,\n",
       "         1.27728295e+00,  4.25665617e-01, -6.46507442e-02,\n",
       "        -5.45213938e-01,  6.61605537e-01,  8.99971426e-01,\n",
       "        -2.54789144e-01, -5.85837603e-01, -1.35448551e+00,\n",
       "         2.50250548e-01, -4.88154292e-01,  9.61574256e-01,\n",
       "         1.66793123e-01],\n",
       "       [-2.05009766e+02,  1.45186417e+02, -4.94200287e+01,\n",
       "         1.29298344e+01, -7.53802490e+00, -9.56644154e+00,\n",
       "        -1.95795078e+01,  8.09804499e-01, -1.19845986e+00,\n",
       "         1.68456020e+01,  1.22742128e+00, -1.52846813e+01,\n",
       "        -2.82802906e+01, -2.49213047e+01, -1.68978767e+01,\n",
       "         1.68480384e+00,  1.06272812e+01,  3.32480979e+00,\n",
       "        -6.95530272e+00, -7.77017307e+00,  3.31509519e+00,\n",
       "         2.02300205e+01,  2.86307449e+01,  2.09558563e+01,\n",
       "         4.54981422e+00, -7.13971758e+00, -5.80444384e+00,\n",
       "        -3.69110465e+00, -4.20918846e+00, -1.75053864e+01,\n",
       "        -2.68926773e+01, -1.73071175e+01,  3.11464214e+00,\n",
       "         3.59190536e+00, -6.65996170e+00,  2.65341353e+00,\n",
       "         1.80544300e+01,  5.34441137e+00, -1.34608879e+01,\n",
       "        -5.34246254e+00],\n",
       "       [-3.03924591e+02,  5.20367393e+01, -4.18093719e+01,\n",
       "         3.93218307e+01, -6.25267744e+00,  1.87477036e+01,\n",
       "        -2.30482006e+00,  1.56401434e+01, -6.14846706e+00,\n",
       "         2.03192387e+01, -1.12740965e+01,  1.58236322e+01,\n",
       "        -3.87011766e+00,  1.69353695e+01, -4.06590462e+00,\n",
       "         6.03884649e+00, -1.57086492e+00,  1.10418615e+01,\n",
       "        -6.98922396e+00,  1.13965883e+01,  1.11809552e+00,\n",
       "         5.49942350e+00, -2.43045783e+00,  9.53127575e+00,\n",
       "        -4.83173847e+00,  2.82703424e+00, -3.66001636e-01,\n",
       "         4.28448296e+00, -1.66190934e+00,  4.35799503e+00,\n",
       "        -1.56182635e+00,  3.00667310e+00, -2.89551973e+00,\n",
       "         7.81622052e-01, -5.52505779e+00,  1.43265200e+00,\n",
       "        -2.29120374e+00, -2.90430039e-01, -7.55096436e-01,\n",
       "         3.10112786e+00],\n",
       "       [-3.51865295e+02,  7.07998505e+01, -1.71001930e+01,\n",
       "        -2.42943096e+00, -1.74795139e+00,  1.08341913e+01,\n",
       "        -3.20205069e+00,  4.02009994e-01, -2.25732651e+01,\n",
       "        -8.06861782e+00, -7.98736286e+00, -3.49554747e-01,\n",
       "        -1.15004358e+01, -7.05638504e+00, -7.10616159e+00,\n",
       "        -4.32955503e+00, -9.12524700e+00, -4.66681194e+00,\n",
       "        -4.11628103e+00, -7.42772436e+00, -9.24732590e+00,\n",
       "        -3.92316151e+00, -4.73276854e+00, -9.47468340e-01,\n",
       "         6.78981900e-01, -2.69800472e+00,  7.94782266e-02,\n",
       "         3.76054788e+00, -1.34405661e+00,  1.26577485e+00,\n",
       "         1.01034856e+00, -9.93752658e-01, -1.81793571e+00,\n",
       "         3.01627755e-01, -3.40307760e+00,  9.72550571e-01,\n",
       "        -1.93025303e+00, -2.36185026e+00, -2.56497478e+00,\n",
       "        -2.22314143e+00],\n",
       "       [-4.50545837e+02,  8.78490753e+01,  3.98629808e+00,\n",
       "         3.74521518e+00, -1.26287298e+01, -6.20248578e-02,\n",
       "        -9.54656982e+00,  1.54978838e+01, -1.53966312e+01,\n",
       "         7.76307678e+00, -5.48590124e-01, -5.04667425e+00,\n",
       "        -5.49587631e+00, -1.22988559e-01, -2.75591874e+00,\n",
       "         3.69417429e+00, -5.95966578e+00, -2.58078814e+00,\n",
       "         1.36130607e+00, -3.55831909e+00, -5.12028217e+00,\n",
       "        -2.17933321e+00, -4.03115416e+00, -4.36476469e+00,\n",
       "        -4.54180145e+00, -5.24550581e+00, -3.33598518e+00,\n",
       "        -1.93515396e+00, -3.63025117e+00, -1.94320536e+00,\n",
       "        -4.95169735e+00, -1.81001139e+00, -5.60741186e+00,\n",
       "        -1.57059991e+00, -3.88338375e+00, -2.55791616e+00,\n",
       "        -3.09926915e+00, -1.40149486e+00, -2.07034063e+00,\n",
       "        -2.39356995e+00],\n",
       "       [-4.84315186e+02,  7.89115601e+01,  7.00938368e+00,\n",
       "         8.00926113e+00,  3.86491728e+00,  5.11288691e+00,\n",
       "        -2.08137608e+00,  1.86971035e-02, -3.70494246e+00,\n",
       "        -1.98625672e+00, -6.60506248e+00, -1.20258771e-01,\n",
       "        -5.07429838e-01, -5.51846206e-01, -2.93798041e+00,\n",
       "        -1.79259050e+00, -3.11942840e+00, -1.09234059e+00,\n",
       "        -3.90890098e+00, -1.95278394e+00, -2.16976866e-01,\n",
       "         4.11606848e-01, -7.29154825e-01, -1.68505490e-01,\n",
       "        -2.12551475e+00, -9.16788578e-01, -3.35220456e-01,\n",
       "        -1.14104795e+00, -4.46531653e-01, -7.23683536e-01,\n",
       "        -1.11127651e+00,  6.62593544e-01,  3.85734051e-01,\n",
       "        -3.88938516e-01, -6.52037144e-01, -2.33112439e-03,\n",
       "         8.77566814e-01,  1.54763126e+00,  8.92245770e-01,\n",
       "         6.76001787e-01],\n",
       "       [-5.11385040e+02,  5.62496338e+01,  5.36709356e+00,\n",
       "         2.42244554e+00,  1.81105471e+00,  8.50929070e+00,\n",
       "         4.15069818e+00,  1.17030325e+01, -3.94035625e+00,\n",
       "         8.52436161e+00,  2.68048191e+00,  3.57018995e+00,\n",
       "        -6.38129354e-01,  1.29510450e+01,  5.50660944e+00,\n",
       "         4.79399633e+00,  6.18625879e+00,  6.43350220e+00,\n",
       "         2.20051312e+00,  4.62184668e+00, -1.26859713e+00,\n",
       "         3.49724984e+00,  1.98537111e+00,  2.64845610e+00,\n",
       "         1.93782556e+00,  4.26809931e+00, -2.94926673e-01,\n",
       "         4.66697359e+00,  4.17221975e+00,  1.19105828e+00,\n",
       "         2.25497746e+00,  6.23412561e+00,  1.20791566e+00,\n",
       "         2.53423929e+00,  1.93073273e+00,  2.86659861e+00,\n",
       "         1.77386904e+00,  2.25119233e+00,  3.20770168e+00,\n",
       "         3.21576238e+00],\n",
       "       [-2.95845154e+02,  7.19582672e+01, -1.84811478e+01,\n",
       "         3.55161285e+01,  1.82488289e+01,  5.50852585e+00,\n",
       "         7.77684033e-01,  1.12298155e+01, -2.23088455e+01,\n",
       "         1.10909157e+01, -5.30640268e+00, -2.41061544e+00,\n",
       "        -1.01793158e+00,  7.81425047e+00, -5.26078081e+00,\n",
       "         3.64626050e+00, -5.01436186e+00,  3.31048107e+00,\n",
       "        -6.92122269e+00,  8.14926815e+00, -5.14450932e+00,\n",
       "         1.00061750e+00, -2.92841148e+00,  2.83671451e+00,\n",
       "         2.17849657e-01,  2.62261081e+00, -1.72009856e-01,\n",
       "         5.08885002e+00,  2.26421952e+00, -3.09851110e-01,\n",
       "         2.87476867e-01,  5.64500380e+00, -3.43352556e-01,\n",
       "         1.00688688e-01,  2.61669874e-01,  1.48544598e+00,\n",
       "         1.30230331e+00,  2.86941957e+00,  1.44975030e+00,\n",
       "         2.93263030e+00],\n",
       "       [-1.63629623e+02,  4.10154381e+01, -2.36885090e+01,\n",
       "         3.49285469e+01, -3.37154808e+01,  1.14803171e+01,\n",
       "        -1.08046856e+01,  1.04864273e+01, -1.71666946e+01,\n",
       "         5.30389965e-01, -4.55302334e+00,  3.07082820e+00,\n",
       "        -1.68657589e+01,  1.12471170e+01, -7.44073391e+00,\n",
       "         5.08164597e+00, -5.52542353e+00,  2.88240075e-01,\n",
       "        -5.65748978e+00, -8.50992393e+00, -2.20046020e+00,\n",
       "         1.03342462e+00, -1.81301041e+01,  6.63874626e+00,\n",
       "        -4.03580379e+00, -1.07867594e+01, -1.33114600e+00,\n",
       "         1.58637464e+00, -1.61913147e+01,  2.45923471e+00,\n",
       "        -3.69792628e+00, -4.23791552e+00, -9.10788253e-02,\n",
       "        -1.58525240e+00, -5.34623766e+00, -4.58685732e+00,\n",
       "        -4.90460587e+00, -2.71028614e+00, -6.06789923e+00,\n",
       "         6.86822832e-01]], dtype=float32)"
      ]
     },
     "execution_count": 33,
     "metadata": {},
     "output_type": "execute_result"
    }
   ],
   "source": [
    "x_test"
   ]
  },
  {
   "cell_type": "code",
   "execution_count": null,
   "metadata": {},
   "outputs": [],
   "source": []
  },
  {
   "cell_type": "code",
   "execution_count": null,
   "metadata": {},
   "outputs": [],
   "source": []
  }
 ],
 "metadata": {
  "kernelspec": {
   "display_name": "Python 3",
   "language": "python",
   "name": "python3"
  },
  "language_info": {
   "codemirror_mode": {
    "name": "ipython",
    "version": 3
   },
   "file_extension": ".py",
   "mimetype": "text/x-python",
   "name": "python",
   "nbconvert_exporter": "python",
   "pygments_lexer": "ipython3",
   "version": "3.7.4"
  }
 },
 "nbformat": 4,
 "nbformat_minor": 2
}
