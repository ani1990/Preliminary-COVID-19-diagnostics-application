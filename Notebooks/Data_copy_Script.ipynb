{
  "nbformat": 4,
  "nbformat_minor": 0,
  "metadata": {
    "colab": {
      "name": "test.ipynb",
      "provenance": [],
      "collapsed_sections": []
    },
    "kernelspec": {
      "name": "python3",
      "display_name": "Python 3"
    }
  },
  "cells": [
    {
      "cell_type": "code",
      "metadata": {
        "id": "R6_txr7LmNc5",
        "colab_type": "code",
        "outputId": "6c8f98e2-4c9b-4fb9-d85e-69075892c425",
        "colab": {
          "base_uri": "https://localhost:8080/",
          "height": 126
        }
      },
      "source": [
        "from google.colab import drive \n",
        "drive.mount('/content/drive',force_remount=True)"
      ],
      "execution_count": 0,
      "outputs": [
        {
          "output_type": "stream",
          "text": [
            "Go to this URL in a browser: https://accounts.google.com/o/oauth2/auth?client_id=947318989803-6bn6qk8qdgf4n4g3pfee6491hc0brc4i.apps.googleusercontent.com&redirect_uri=urn%3aietf%3awg%3aoauth%3a2.0%3aoob&response_type=code&scope=email%20https%3a%2f%2fwww.googleapis.com%2fauth%2fdocs.test%20https%3a%2f%2fwww.googleapis.com%2fauth%2fdrive%20https%3a%2f%2fwww.googleapis.com%2fauth%2fdrive.photos.readonly%20https%3a%2f%2fwww.googleapis.com%2fauth%2fpeopleapi.readonly\n",
            "\n",
            "Enter your authorization code:\n",
            "··········\n",
            "Mounted at /content/drive\n"
          ],
          "name": "stdout"
        }
      ]
    },
    {
      "cell_type": "code",
      "metadata": {
        "id": "oFJujo2CmQN0",
        "colab_type": "code",
        "outputId": "21d6ded4-38c9-4542-9c9e-df20998b991d",
        "colab": {
          "base_uri": "https://localhost:8080/",
          "height": 35
        }
      },
      "source": [
        "import glob\n",
        "print(glob.glob(\"/content/drive\"))"
      ],
      "execution_count": 0,
      "outputs": [
        {
          "output_type": "stream",
          "text": [
            "['/content/drive']\n"
          ],
          "name": "stdout"
        }
      ]
    },
    {
      "cell_type": "code",
      "metadata": {
        "id": "XWzRDh5BmwEC",
        "colab_type": "code",
        "outputId": "645b4c3e-a165-49a6-dbec-08ab9d0f4104",
        "colab": {
          "base_uri": "https://localhost:8080/",
          "height": 35
        }
      },
      "source": [
        "ls"
      ],
      "execution_count": 0,
      "outputs": [
        {
          "output_type": "stream",
          "text": [
            "\u001b[0m\u001b[01;34mdrive\u001b[0m/  \u001b[01;34msample_data\u001b[0m/\n"
          ],
          "name": "stdout"
        }
      ]
    },
    {
      "cell_type": "code",
      "metadata": {
        "id": "c19bnU6Tmtwt",
        "colab_type": "code",
        "outputId": "56a38411-5541-4003-97a1-8c27848c8e7b",
        "colab": {
          "base_uri": "https://localhost:8080/",
          "height": 35
        }
      },
      "source": [
        "cd drive/"
      ],
      "execution_count": 0,
      "outputs": [
        {
          "output_type": "stream",
          "text": [
            "/content/drive\n"
          ],
          "name": "stdout"
        }
      ]
    },
    {
      "cell_type": "code",
      "metadata": {
        "id": "av0Bpgtym76j",
        "colab_type": "code",
        "outputId": "90c8b665-91cc-4ad3-d556-8ae9a9d563b0",
        "colab": {
          "base_uri": "https://localhost:8080/",
          "height": 35
        }
      },
      "source": [
        "ls"
      ],
      "execution_count": 0,
      "outputs": [
        {
          "output_type": "stream",
          "text": [
            "\u001b[0m\u001b[01;34m'My Drive'\u001b[0m/\n"
          ],
          "name": "stdout"
        }
      ]
    },
    {
      "cell_type": "code",
      "metadata": {
        "id": "fpfsGPaOm8q0",
        "colab_type": "code",
        "outputId": "c184eea2-fc77-4445-c9a0-1afe4aab4ab7",
        "colab": {
          "base_uri": "https://localhost:8080/",
          "height": 35
        }
      },
      "source": [
        "cd My\\ Drive"
      ],
      "execution_count": 0,
      "outputs": [
        {
          "output_type": "stream",
          "text": [
            "/content/drive/My Drive\n"
          ],
          "name": "stdout"
        }
      ]
    },
    {
      "cell_type": "code",
      "metadata": {
        "id": "N3AlPtmYnAyp",
        "colab_type": "code",
        "outputId": "f5984afc-508f-4b6b-d53a-d9f39aeef681",
        "colab": {
          "base_uri": "https://localhost:8080/",
          "height": 53
        }
      },
      "source": [
        "cd Cough_Audio_Recognition/"
      ],
      "execution_count": 0,
      "outputs": [
        {
          "output_type": "stream",
          "text": [
            "[Errno 2] No such file or directory: 'Cough_Audio_Recognition/'\n",
            "/content/drive/My Drive/Cough_Audio_Recognition/New_User_Data\n"
          ],
          "name": "stdout"
        }
      ]
    },
    {
      "cell_type": "code",
      "metadata": {
        "id": "XZDclNVbnD91",
        "colab_type": "code",
        "outputId": "86896149-fef7-4774-afac-7c5c3751e65d",
        "colab": {
          "base_uri": "https://localhost:8080/",
          "height": 35
        }
      },
      "source": [
        "cd cough/"
      ],
      "execution_count": 0,
      "outputs": [
        {
          "output_type": "stream",
          "text": [
            "/content/drive/My Drive/Cough_Audio_Recognition/New_User_Data/cough\n"
          ],
          "name": "stdout"
        }
      ]
    },
    {
      "cell_type": "code",
      "metadata": {
        "id": "8DBzUP7DrNcQ",
        "colab_type": "code",
        "outputId": "1604a650-207c-4783-e880-71c805b27aee",
        "colab": {
          "base_uri": "https://localhost:8080/",
          "height": 767
        }
      },
      "source": [
        "import glob\n",
        "import shutil\n",
        "import os\n",
        "import pandas as pd\n",
        "src_filename = []\n",
        "df = pd.read_csv(\"/content/drive/My Drive/Cough_Audio_Recognition/meta/esc50_2.csv\")\n",
        "df.info()\n",
        "files_cough = glob.glob(\"/content/drive/My Drive/Cough_Audio_Recognition/New_User_Data/cough/*\")\n",
        "files_no_cough = glob.glob(\"/content/drive/My Drive/Cough_Audio_Recognition/New_User_Data/not_cough/*\")\n",
        "src_dir_cough = \"/content/drive/My Drive/Cough_Audio_Recognition/New_User_Data/cough\"\n",
        "src_dir_not_cough = \"/content/drive/My Drive/Cough_Audio_Recognition/New_User_Data/not_cough\"\n",
        "dest_dir = \"/content/drive/My Drive/Cough_Audio_Recognition/audio\"\n",
        "\n",
        "for file in files_cough:\n",
        "  src_filename_cough = str(file.rsplit('/',1)[1])\n",
        "  df1 = pd.DataFrame({\"filename\":src_filename_cough, \\\n",
        "                    \"fold\":1, \\\n",
        "                    \"target\":24, \\\n",
        "                    \"category\":\"coughing\", \\\n",
        "                    \"esc10\" : True,  \\\n",
        "                    \"src_file\":\"XYZ\",  \\\n",
        "                    \"take\" : \"A\"   \\\n",
        "                    }, index=[len(df)])\n",
        "  src_path = os.path.join(src_dir_cough, src_filename_cough)\n",
        "  dest_path = os.path.join(dest_dir, str(file.rsplit('/',1)[1]))\n",
        "  shutil.move(src_path,dest_path)\n",
        "  df = df.append(df1)\n",
        "\n",
        "for file in files_no_cough:\n",
        "  src_filename_not_cough = str(file.rsplit('/',1)[1])\n",
        "  df2 = pd.DataFrame({\"filename\":src_filename_not_cough,  \\\n",
        "                    \"fold\":1,   \\\n",
        "                    \"target\":0,  \\\n",
        "                    \"category\":\"dog\",  \\\n",
        "                    \"esc10\" : True,   \\\n",
        "                    \"src_file\":\"XYZ\",  \\\n",
        "                    \"take\" : \"A\"  \\\n",
        "                    }, index=[len(df)])\n",
        "  src_path = os.path.join(src_dir_not_cough, str(file.rsplit('/',1)[1]))\n",
        "  dest_path = os.path.join(dest_dir, str(file.rsplit('/',1)[1]))\n",
        "  shutil.move(src_path,dest_path)\n",
        "  df = df.append(df2)\n",
        "\n",
        "df.to_csv(\"/content/drive/My Drive/Cough_Audio_Recognition/meta/esc50_2.csv\")"
      ],
      "execution_count": 0,
      "outputs": [
        {
          "output_type": "stream",
          "text": [
            "<class 'pandas.core.frame.DataFrame'>\n",
            "RangeIndex: 142 entries, 0 to 141\n",
            "Data columns (total 7 columns):\n",
            " #   Column    Non-Null Count  Dtype \n",
            "---  ------    --------------  ----- \n",
            " 0   filename  142 non-null    object\n",
            " 1   fold      142 non-null    int64 \n",
            " 2   target    142 non-null    int64 \n",
            " 3   category  142 non-null    object\n",
            " 4   esc10     142 non-null    bool  \n",
            " 5   src_file  142 non-null    object\n",
            " 6   take      142 non-null    object\n",
            "dtypes: bool(1), int64(2), object(4)\n",
            "memory usage: 6.9+ KB\n",
            "<class 'pandas.core.frame.DataFrame'>\n",
            "Int64Index: 144 entries, 0 to 143\n",
            "Data columns (total 7 columns):\n",
            " #   Column    Non-Null Count  Dtype \n",
            "---  ------    --------------  ----- \n",
            " 0   filename  144 non-null    object\n",
            " 1   fold      144 non-null    int64 \n",
            " 2   target    144 non-null    int64 \n",
            " 3   category  144 non-null    object\n",
            " 4   esc10     144 non-null    bool  \n",
            " 5   src_file  144 non-null    object\n",
            " 6   take      144 non-null    object\n",
            "dtypes: bool(1), int64(2), object(4)\n",
            "memory usage: 8.0+ KB\n",
            "<class 'pandas.core.frame.DataFrame'>\n",
            "Int64Index: 145 entries, 0 to 144\n",
            "Data columns (total 7 columns):\n",
            " #   Column    Non-Null Count  Dtype \n",
            "---  ------    --------------  ----- \n",
            " 0   filename  145 non-null    object\n",
            " 1   fold      145 non-null    int64 \n",
            " 2   target    145 non-null    int64 \n",
            " 3   category  145 non-null    object\n",
            " 4   esc10     145 non-null    bool  \n",
            " 5   src_file  145 non-null    object\n",
            " 6   take      145 non-null    object\n",
            "dtypes: bool(1), int64(2), object(4)\n",
            "memory usage: 8.1+ KB\n"
          ],
          "name": "stdout"
        }
      ]
    },
    {
      "cell_type": "code",
      "metadata": {
        "id": "NjsZv4G59kps",
        "colab_type": "code",
        "outputId": "f219a16c-77c8-4bd2-c9d9-ebdb69a1fde9",
        "colab": {
          "base_uri": "https://localhost:8080/",
          "height": 363
        }
      },
      "source": [
        "df.tail(10)"
      ],
      "execution_count": 0,
      "outputs": [
        {
          "output_type": "execute_result",
          "data": {
            "text/html": [
              "<div>\n",
              "<style scoped>\n",
              "    .dataframe tbody tr th:only-of-type {\n",
              "        vertical-align: middle;\n",
              "    }\n",
              "\n",
              "    .dataframe tbody tr th {\n",
              "        vertical-align: top;\n",
              "    }\n",
              "\n",
              "    .dataframe thead th {\n",
              "        text-align: right;\n",
              "    }\n",
              "</style>\n",
              "<table border=\"1\" class=\"dataframe\">\n",
              "  <thead>\n",
              "    <tr style=\"text-align: right;\">\n",
              "      <th></th>\n",
              "      <th>filename</th>\n",
              "      <th>fold</th>\n",
              "      <th>target</th>\n",
              "      <th>category</th>\n",
              "      <th>esc10</th>\n",
              "      <th>src_file</th>\n",
              "      <th>take</th>\n",
              "    </tr>\n",
              "  </thead>\n",
              "  <tbody>\n",
              "    <tr>\n",
              "      <th>135</th>\n",
              "      <td>Record3.wav</td>\n",
              "      <td>5</td>\n",
              "      <td>24</td>\n",
              "      <td>coughing</td>\n",
              "      <td>False</td>\n",
              "      <td>alien2</td>\n",
              "      <td>A</td>\n",
              "    </tr>\n",
              "    <tr>\n",
              "      <th>136</th>\n",
              "      <td>Record4.wav</td>\n",
              "      <td>5</td>\n",
              "      <td>24</td>\n",
              "      <td>coughing</td>\n",
              "      <td>False</td>\n",
              "      <td>alien2</td>\n",
              "      <td>A</td>\n",
              "    </tr>\n",
              "    <tr>\n",
              "      <th>137</th>\n",
              "      <td>Record5.wav</td>\n",
              "      <td>5</td>\n",
              "      <td>24</td>\n",
              "      <td>coughing</td>\n",
              "      <td>False</td>\n",
              "      <td>alien2</td>\n",
              "      <td>A</td>\n",
              "    </tr>\n",
              "    <tr>\n",
              "      <th>138</th>\n",
              "      <td>Record6.wav</td>\n",
              "      <td>5</td>\n",
              "      <td>24</td>\n",
              "      <td>coughing</td>\n",
              "      <td>False</td>\n",
              "      <td>alien2</td>\n",
              "      <td>A</td>\n",
              "    </tr>\n",
              "    <tr>\n",
              "      <th>139</th>\n",
              "      <td>Record7.wav</td>\n",
              "      <td>5</td>\n",
              "      <td>24</td>\n",
              "      <td>coughing</td>\n",
              "      <td>False</td>\n",
              "      <td>alien2</td>\n",
              "      <td>A</td>\n",
              "    </tr>\n",
              "    <tr>\n",
              "      <th>140</th>\n",
              "      <td>Record8.wav</td>\n",
              "      <td>5</td>\n",
              "      <td>24</td>\n",
              "      <td>coughing</td>\n",
              "      <td>False</td>\n",
              "      <td>alien2</td>\n",
              "      <td>A</td>\n",
              "    </tr>\n",
              "    <tr>\n",
              "      <th>141</th>\n",
              "      <td>Record9.wav</td>\n",
              "      <td>5</td>\n",
              "      <td>24</td>\n",
              "      <td>coughing</td>\n",
              "      <td>False</td>\n",
              "      <td>alien2</td>\n",
              "      <td>A</td>\n",
              "    </tr>\n",
              "    <tr>\n",
              "      <th>142</th>\n",
              "      <td>x2.wav</td>\n",
              "      <td>1</td>\n",
              "      <td>24</td>\n",
              "      <td>coughing</td>\n",
              "      <td>True</td>\n",
              "      <td>XYZ</td>\n",
              "      <td>A</td>\n",
              "    </tr>\n",
              "    <tr>\n",
              "      <th>143</th>\n",
              "      <td>x1.wav</td>\n",
              "      <td>1</td>\n",
              "      <td>24</td>\n",
              "      <td>coughing</td>\n",
              "      <td>True</td>\n",
              "      <td>XYZ</td>\n",
              "      <td>A</td>\n",
              "    </tr>\n",
              "    <tr>\n",
              "      <th>144</th>\n",
              "      <td>x4.wav</td>\n",
              "      <td>1</td>\n",
              "      <td>0</td>\n",
              "      <td>dog</td>\n",
              "      <td>True</td>\n",
              "      <td>XYZ</td>\n",
              "      <td>A</td>\n",
              "    </tr>\n",
              "  </tbody>\n",
              "</table>\n",
              "</div>"
            ],
            "text/plain": [
              "        filename  fold  target  category  esc10 src_file take\n",
              "135  Record3.wav     5      24  coughing  False   alien2    A\n",
              "136  Record4.wav     5      24  coughing  False   alien2    A\n",
              "137  Record5.wav     5      24  coughing  False   alien2    A\n",
              "138  Record6.wav     5      24  coughing  False   alien2    A\n",
              "139  Record7.wav     5      24  coughing  False   alien2    A\n",
              "140  Record8.wav     5      24  coughing  False   alien2    A\n",
              "141  Record9.wav     5      24  coughing  False   alien2    A\n",
              "142       x2.wav     1      24  coughing   True      XYZ    A\n",
              "143       x1.wav     1      24  coughing   True      XYZ    A\n",
              "144       x4.wav     1       0       dog   True      XYZ    A"
            ]
          },
          "metadata": {
            "tags": []
          },
          "execution_count": 21
        }
      ]
    },
    {
      "cell_type": "code",
      "metadata": {
        "id": "lZfLSxHi9ty5",
        "colab_type": "code",
        "colab": {}
      },
      "source": [
        ""
      ],
      "execution_count": 0,
      "outputs": []
    }
  ]
}